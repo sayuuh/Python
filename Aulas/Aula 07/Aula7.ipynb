{
  "nbformat": 4,
  "nbformat_minor": 0,
  "metadata": {
    "colab": {
      "name": "Aula7.ipynb",
      "provenance": [],
      "collapsed_sections": []
    },
    "kernelspec": {
      "name": "python3",
      "display_name": "Python 3"
    },
    "language_info": {
      "name": "python"
    }
  },
  "cells": [
    {
      "cell_type": "code",
      "execution_count": null,
      "metadata": {
        "id": "U9lvIjIzRRht"
      },
      "outputs": [],
      "source": [
        "# Funções\n",
        "# Normal, Com parametro, Com retorno e Com retorno e parametro\n",
        "\n",
        "def linha(tamanho):\n",
        "  print('-' * (tamanho + 2))\n",
        "def geraLinhas(qnt):\n",
        "  for i in range(0, qnt):\n",
        "    linha(20)\n",
        "\n",
        "titulo = \"Nome dos Alunos do curso de dev fullstack\"\n",
        "\n",
        "linha(len(titulo))\n",
        "print(titulo)\n",
        "linha(len(titulo))\n",
        "\n",
        "linha(10)\n",
        "print('titulo')\n",
        "linha(10)\n",
        "print('texto')\n",
        "print('texto')\n",
        "print('texto')\n",
        "print('texto')\n",
        "print('texto')\n",
        "print('texto')\n",
        "\n",
        "geraLinhas(2)"
      ]
    },
    {
      "cell_type": "markdown",
      "source": [
        "Python\n",
        "# **VETORES**\n",
        "\n",
        "# **TUPLA**\n",
        "VARIAVEL COMPOSTA\n",
        "As tuplas são imutáveis -> não podem ser alteradas após a declaração\n",
        "\n",
        "## **DECLARAÇÃO**\n",
        "nomeTupla = (valor, valor, valor, valor, valor)"
      ],
      "metadata": {
        "id": "Lsvx_sbgSXg8"
      }
    },
    {
      "cell_type": "code",
      "source": [
        "# Exemplo\n",
        "linguagens = ('C', 'Java', 'JavaScript', 'C++', 'C#', 'PHP', 'Python', 'Ruby', 'R') # criando uma Tupla\n",
        "print(type(linguagens))\n",
        "\n",
        "linguas = ('C') # tupla\n",
        "print(type(linguas))\n",
        "\n",
        "ling = tuple('C') # tupla\n",
        "print(type(ling))\n",
        "\n",
        "lin = ('C',) # tupla\n",
        "print(type(lin))\n",
        "\n",
        "print(linguagens)\n",
        "print(linguagens[2])\n",
        "print(linguagens[5])\n",
        "print(linguagens[7])\n",
        "\n",
        "print(len(linguagens)) # o tamanho da tupla / vetor\n",
        "\n",
        "print(linguagens[-1]) # ultimo valor\n",
        "print(linguagens[len(linguagens) -1]) # ultimo valor"
      ],
      "metadata": {
        "id": "2x5RcvsySGzz"
      },
      "execution_count": null,
      "outputs": []
    },
    {
      "cell_type": "code",
      "source": [
        "# Fatiamento \n",
        "linguagens = ('C', 'Java', 'JavaScript', 'C++', 'C#', 'PHP', 'Python', 'Ruby', 'R') # criando uma Tupla\n",
        "\n",
        "print(linguagens[1:5]) # 1 ao 4\n",
        "print(linguagens[2:]) # 2 ao último\n",
        "print(linguagens[:4]) # 4 primeiros\n",
        "print(linguagens[-3]) # 3 de trás pra frente\n",
        "print(linguagens[-4:]) # 4 ultimos \n",
        "\n",
        "# Alterando a Tupla\n",
        "linguagens[4] = \"Go\" # As tuplas são imutáveis, não podem ser alteradas após a criação -> São valores 'constantes'\n",
        "print(linguagens)\n"
      ],
      "metadata": {
        "id": "cJuZUi27UhTp"
      },
      "execution_count": null,
      "outputs": []
    },
    {
      "cell_type": "code",
      "source": [
        "# Funções nativas das TUPLAS\n",
        "\n",
        "linguagens = ('C', 'Java', 'JavaScript', 'C++', 'C#', 'PHP', 'Python', 'Ruby', 'R') # criando uma Tupla\n",
        "num = (10, 20, 15, -5)\n",
        "\n",
        "# ORDENAR\n",
        "print(linguagens)\n",
        "print(sorted(linguagens)) # sorted (tupla) -> não altera a tupla\n",
        "print(linguagens)\n",
        "\n",
        "print(num)\n",
        "print(sorted(num))\n",
        "print(num)\n",
        "\n",
        "# BUSCAR PELO VALOR\n",
        "print(linguagens.index('Java')) # buscar índice do valor\n",
        "print(num.index(-5)) # buscar índice do valor\n",
        "\n",
        "# máximo\n",
        "print(max(num)) # valor máximo\n",
        "\n",
        "# mínimo\n",
        "print(min(num)) # valor mínimo\n",
        "\n",
        "# soma\n",
        "print(sum(num))\n",
        "\n",
        "# tamanho\n",
        "print(len(num)) # tamanho da tupla\n",
        "\n",
        "# deletar\n",
        "del(num) # deletar a tupla\n",
        "print(num) # vai dar erro pq foi excluído \n"
      ],
      "metadata": {
        "id": "wjKfPaJzFQib"
      },
      "execution_count": null,
      "outputs": []
    },
    {
      "cell_type": "markdown",
      "source": [
        "# **LISTA**\n",
        "\n",
        "**Variável Composta**\n",
        "\n",
        "## Declaração\n",
        "\n",
        "nomeTupla = [valor, valor, valor, valor, valor]"
      ],
      "metadata": {
        "id": "UpXLFH4EJdjN"
      }
    },
    {
      "cell_type": "code",
      "source": [
        "# Criando listas \n",
        "\n",
        "roupas = ['Blusa', 'Calça', 'Meia', 'Casaco']\n",
        "print(type(roupas)) # tipo\n",
        "print(roupas) # exibindo todos os valores da lista\n",
        "print(len(roupas)) # tamanho da lista\n",
        "\n",
        "numeros = list(range(10, 31, 5))\n",
        "print(type(numeros))\n",
        "print(numeros)\n",
        "print(len(numeros))\n",
        "\n",
        "teste = []\n",
        "print(type(teste))\n",
        "print(teste)\n",
        "print(len(teste))\n",
        "\n"
      ],
      "metadata": {
        "id": "wgPoJqiaILRT"
      },
      "execution_count": null,
      "outputs": []
    },
    {
      "cell_type": "code",
      "source": [
        "# Declarando\n",
        "\n",
        "carros = ['Palio', 'Gol', 'Celta', 'Corsa']\n",
        "print(carros)\n",
        "print(len(carros))\n",
        "\n",
        "# Adicionar um novo item\n",
        "carros.append('Fusca') # Adiciona ao final da lista -> último item\n",
        "# carros.append(input('Digite um carro:')) adiciona valor digitado pelo usuário\n",
        "print(carros)\n",
        "print(len(carros))\n",
        "\n",
        "# Inserir em um índice específico \n",
        "carros.insert(2, \"Fox\")\n",
        "# carros.insert(2, input('Digite um carro:')) # carros.insert(2, variavel)\n",
        "print(carros)\n",
        "print(len(carros))\n",
        "\n",
        "# Remover pelo Indice\n",
        "del carros [2]\n",
        "print(carros)\n",
        "print(len(carros))\n",
        "\n",
        "carros.pop(3) # Removendo o 3 item\n",
        "print(carros)\n",
        "print(len(carros))\n",
        "\n",
        "carros.pop() # Removendo o último item\n",
        "print(carros)\n",
        "print(len(carros))\n",
        "\n",
        "# Remover pelo valor\n",
        "carros.remove('Celta')\n",
        "print(carros)\n",
        "print(len(carros))\n",
        "\n",
        "# Alterar Valor\n",
        "carros[0] = \"Celta\"\n",
        "print(carros)\n",
        "print(len(carros)) \n",
        "\n",
        "carros[1] = 'Palio'\n",
        "print(carros)\n",
        "print(len(carros))\n",
        "\n",
        "# Deletar Lista\n",
        "del carros\n",
        "print(carros)\n",
        "\n",
        "\n",
        "\n"
      ],
      "metadata": {
        "id": "mFNrAmPKoS2R"
      },
      "execution_count": null,
      "outputs": []
    },
    {
      "cell_type": "code",
      "source": [
        "# Copia de tabela\n",
        "carros = ['Palio', 'Gol', 'Celta', 'Corsa']\n",
        "# moto = ['Moto1', 'Moto2', 'Moto3']\n",
        "\n",
        "outrosCarros = carros[:]\n",
        "# outrosCarros.append(moto[0:2])\n",
        "print(outrosCarros)\n",
        "print(len(outrosCarros))\n",
        "\n",
        "# Teste lógico \n",
        "# Existe o valor tal dentro da lista\n",
        "car = input('Pesquise o carro na loja: ')\n",
        "if(car in carros):\n",
        "  print('Tem')\n",
        "else:\n",
        "  print('Não tem')"
      ],
      "metadata": {
        "id": "nDSWWwPlpBuP"
      },
      "execution_count": null,
      "outputs": []
    },
    {
      "cell_type": "code",
      "source": [
        "# Funções\n",
        "# Ordenar\n",
        "\n",
        "valores = [15, 20, 98, -59, 275, 159, 2]\n",
        "print(valores)\n",
        "print(len(valores))\n",
        "valores.sort() # Altera a lista\n",
        "print(valores)\n",
        "valores.sort(reverse=True) # decrescente\n",
        "print(valores)\n",
        "\n",
        "# Máximo\n",
        "print(max(valores))\n",
        "\n",
        "# Mínimo\n",
        "print(min(valores))\n",
        "\n",
        "# Tamanho\n",
        "print(len(valores))\n",
        "\n",
        "# Soma\n",
        "print(sum(valores))\n",
        "\n",
        "# Ordenar sem alterar a lista\n",
        "print(sorted(valores)) # não altera a lista\n",
        "print(valores)\n"
      ],
      "metadata": {
        "colab": {
          "base_uri": "https://localhost:8080/"
        },
        "id": "9D_Y4ImOrnFp",
        "outputId": "c2e1f8ee-a4f7-41ae-8ade-26770da377bb"
      },
      "execution_count": null,
      "outputs": [
        {
          "output_type": "stream",
          "name": "stdout",
          "text": [
            "[15, 20, 98, -59, 275, 159, 2]\n",
            "7\n",
            "[-59, 2, 15, 20, 98, 159, 275]\n",
            "[275, 159, 98, 20, 15, 2, -59]\n"
          ]
        }
      ]
    },
    {
      "cell_type": "code",
      "source": [
        "# Listando itens dos vetores\n",
        "alunos = ['Kenji', 'Mateus', 'Akio', 'Emerson', 'Davi', 'Sayumi', 'Lorhana', 'Erick', 'Igor']\n",
        "print(alunos)\n",
        "alunos.sort()\n",
        "print(alunos)\n",
        "\n",
        "def linhas():\n",
        "  print('==' * 20)\n",
        "\n",
        "linhas()\n",
        "print('PRIMEIRA FORMA')\n",
        "for i in range(0, len(alunos)): # i recebe o índice do LOOP\n",
        "  print(f'Aluno {alunos[i]} na posição {i}') # print('Aluno {alunos[i]} na posição {i}' .format(alunos[i], i))\n",
        "\n",
        "linhas()\n",
        "print('SEGUNDA FORMA')\n",
        "for nome in alunos: # nome recebe o valor da LISTA\n",
        "  print(f'Aluno {nome}')\n",
        "\n",
        "linhas()\n",
        "print('TERCEIRA FORMA')\n",
        "for i, nome in enumerate(alunos): # enumerate gera DOIS VALORES -> índice e valor da lista\n",
        "  print(f'Aluno {nome} na posição {i}') # print('Aluno {alunos[i]} na posição {i} .format(alunos[i], i))\n",
        "\n",
        "  "
      ],
      "metadata": {
        "id": "Ydu6U9dosLJu",
        "outputId": "a1d6a32c-95f8-4241-bebc-748737332f30",
        "colab": {
          "base_uri": "https://localhost:8080/"
        }
      },
      "execution_count": null,
      "outputs": [
        {
          "output_type": "stream",
          "name": "stdout",
          "text": [
            "['Kenji', 'Mateus', 'Akio', 'Emerson', 'Davi', 'Sayumi', 'Lorhana', 'Erick', 'Igor']\n",
            "['Akio', 'Davi', 'Emerson', 'Erick', 'Igor', 'Kenji', 'Lorhana', 'Mateus', 'Sayumi']\n",
            "========================================\n",
            "PRIMEIRA FORMA\n",
            "Aluno Akio na posição 0\n",
            "Aluno Davi na posição 1\n",
            "Aluno Emerson na posição 2\n",
            "Aluno Erick na posição 3\n",
            "Aluno Igor na posição 4\n",
            "Aluno Kenji na posição 5\n",
            "Aluno Lorhana na posição 6\n",
            "Aluno Mateus na posição 7\n",
            "Aluno Sayumi na posição 8\n",
            "========================================\n",
            "SEGUNDA FORMA\n",
            "Aluno Akio\n",
            "Aluno Davi\n",
            "Aluno Emerson\n",
            "Aluno Erick\n",
            "Aluno Igor\n",
            "Aluno Kenji\n",
            "Aluno Lorhana\n",
            "Aluno Mateus\n",
            "Aluno Sayumi\n",
            "========================================\n",
            "TERCEIRA FORMA\n",
            "Aluno Akio na posição 0\n",
            "Aluno Davi na posição 1\n",
            "Aluno Emerson na posição 2\n",
            "Aluno Erick na posição 3\n",
            "Aluno Igor na posição 4\n",
            "Aluno Kenji na posição 5\n",
            "Aluno Lorhana na posição 6\n",
            "Aluno Mateus na posição 7\n",
            "Aluno Sayumi na posição 8\n"
          ]
        }
      ]
    },
    {
      "cell_type": "code",
      "source": [
        "# Criar uma lista de números gerada pelo usuário que receba 5 números\n",
        "\n",
        "def inputNum():\n",
        "  return int(input('Digite um número: ')) # Pede valor do usuário \n",
        "\n",
        "numUsu = [] # lista vazia\n",
        "for i in range(0, 5):\n",
        "  numUsu.append(inputNum())\n",
        "\n",
        "print(numUsu)\n",
        "print(f' Maior número {max(numUsu)}')\n",
        "print(f' Menor número {min(numUsu)}')\n",
        "print(f' Somatório {sum(numUsu)}')\n",
        "print(f' Quantidade de itens na lista {len(numUsu)}')\n",
        "numUsu.sort()\n",
        "print(numUsu)"
      ],
      "metadata": {
        "colab": {
          "base_uri": "https://localhost:8080/"
        },
        "id": "lDoRIyIbtDPr",
        "outputId": "e07a072c-4f9f-4667-caee-9e73a164cb72"
      },
      "execution_count": null,
      "outputs": [
        {
          "output_type": "stream",
          "name": "stdout",
          "text": [
            "Digite um número: 10\n",
            "Digite um número: 25\n",
            "Digite um número: -30\n",
            "Digite um número: 90\n",
            "Digite um número: 82\n",
            "[10, 25, -30, 90, 82]\n",
            " Maior número 90\n",
            " Menor número -30\n",
            " Somatório 177\n",
            " Quantidade de itens na lista 5\n",
            "[-30, 10, 25, 82, 90]\n"
          ]
        }
      ]
    },
    {
      "cell_type": "code",
      "source": [
        ""
      ],
      "metadata": {
        "id": "WyeMHG8ZzQqU"
      },
      "execution_count": null,
      "outputs": []
    }
  ]
}