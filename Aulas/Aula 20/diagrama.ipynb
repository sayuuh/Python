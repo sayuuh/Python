{
 "cells": [
  {
   "cell_type": "markdown",
   "metadata": {},
   "source": [
    "Produto\n",
    "- codigo: int  \n",
    "- nome: String  \n",
    "- preco: float  \n",
    "+ listarProduto()\n",
    "- gerarCodigoProduto()"
   ]
  }
 ],
 "metadata": {
  "kernelspec": {
   "display_name": "Python 3.10.5 64-bit",
   "language": "python",
   "name": "python3"
  },
  "language_info": {
   "name": "python",
   "version": "3.10.5"
  },
  "orig_nbformat": 4,
  "vscode": {
   "interpreter": {
    "hash": "62a1b84b7cb3ac6eb72224cbb36e42312a73a58c0802c75590ecef1420dc8cb8"
   }
  }
 },
 "nbformat": 4,
 "nbformat_minor": 2
}
