{
 "cells": [
  {
   "cell_type": "markdown",
   "metadata": {},
   "source": [
    "LISTAS"
   ]
  },
  {
   "cell_type": "code",
   "execution_count": 6,
   "metadata": {},
   "outputs": [
    {
     "name": "stdout",
     "output_type": "stream",
     "text": [
      "['João', 'Paulo', 'Rafael']\n",
      "['Akio', 'Kenji', 'Sayumi']\n",
      "['Gustavo', 'Marcos', 'Pedro']\n",
      "Pedro\n"
     ]
    }
   ],
   "source": [
    "testes = []\n",
    "teste = list() # teste = [] || teste = [1, 2, 3, 4, 5, 6, 7, 8]\n",
    "\n",
    "teste.append('Gustavo')\n",
    "teste.append('Jorge')\n",
    "teste.append('Pedro')\n",
    "\n",
    "teste[1] = 'Marcos'\n",
    "\n",
    "testes.append(teste[:])\n",
    "teste.clear()\n",
    "\n",
    "teste.append('João')\n",
    "teste.append('Paulo')\n",
    "teste.append('Rafael')\n",
    "testes.append(teste[:])\n",
    "teste.clear()\n",
    "\n",
    "teste.append('Akio')\n",
    "teste.append('Kenji')\n",
    "teste.append('Sayumi')\n",
    "testes.append(teste[:])\n",
    "teste.clear()\n",
    "\n",
    "for i in testes:\n",
    "    print(i)\n",
    "    print('-' * 20)\n",
    "\n",
    "for i in testes:\n",
    "    print(i[2])\n",
    "    print('-' * 20)\n",
    "\n",
    "\n",
    "# [           0          1        2\n",
    "#     0: ['Gustavo', 'Marcos', 'Pedro']\n",
    "#     1: ['João', 'Paulo', 'Rafael']\n",
    "#     2: ['Akio', 'Kenji', 'Sayumi']\n",
    "# ]\n",
    "\n",
    "print(testes[2][1])\n"
   ]
  },
  {
   "cell_type": "code",
   "execution_count": 7,
   "metadata": {},
   "outputs": [
    {
     "name": "stdout",
     "output_type": "stream",
     "text": [
      "[[1, 'Gabriel'], [2, 'Sayumi']]\n",
      "Gabriel\n"
     ]
    }
   ],
   "source": [
    "alunos = []\n",
    "\n",
    "aluno = [1, 'Gabriel']\n",
    "alunos.append(aluno[:])\n",
    "aluno.clear()\n",
    "\n",
    "aluno = [2, 'Sayumi']\n",
    "alunos.append(aluno[:])\n",
    "aluno.clear()\n",
    "\n",
    "print(alunos)\n",
    "\n",
    "'''\n",
    "    0 [1, Gabriel]\n",
    "    1 [2, Sayumi]\n",
    "'''\n",
    "print(alunos[0][1])"
   ]
  },
  {
   "cell_type": "code",
   "execution_count": 9,
   "metadata": {},
   "outputs": [
    {
     "name": "stdout",
     "output_type": "stream",
     "text": [
      "----------------\n",
      "Site de Receitas\n",
      "----------------\n",
      "Receita não encontrada\n",
      "-----------------\n",
      "Lista de Receitas\n",
      "-----------------\n",
      "-----------------\n",
      "Lista de Receitas\n",
      "-----------------\n",
      "Cadastrar\n"
     ]
    },
    {
     "ename": "ValueError",
     "evalue": "invalid literal for int() with base 10: 'Pizza'",
     "output_type": "error",
     "traceback": [
      "\u001b[1;31m---------------------------------------------------------------------------\u001b[0m",
      "\u001b[1;31mValueError\u001b[0m                                Traceback (most recent call last)",
      "\u001b[1;32mc:\\Users\\Sayumi\\Documents\\FULLSTACK\\Aprendendo Python\\Aulas\\Aula 15\\index.ipynb Célula: 4\u001b[0m in \u001b[0;36m<cell line: 40>\u001b[1;34m()\u001b[0m\n\u001b[0;32m     <a href='vscode-notebook-cell:/c%3A/Users/Sayumi/Documents/FULLSTACK/Aprendendo%20Python/Aulas/Aula%2015/index.ipynb#W4sZmlsZQ%3D%3D?line=44'>45</a>\u001b[0m     listarReceitas()\n\u001b[0;32m     <a href='vscode-notebook-cell:/c%3A/Users/Sayumi/Documents/FULLSTACK/Aprendendo%20Python/Aulas/Aula%2015/index.ipynb#W4sZmlsZQ%3D%3D?line=45'>46</a>\u001b[0m \u001b[39melif\u001b[39;00m(menu \u001b[39m==\u001b[39m \u001b[39m3\u001b[39m):\n\u001b[1;32m---> <a href='vscode-notebook-cell:/c%3A/Users/Sayumi/Documents/FULLSTACK/Aprendendo%20Python/Aulas/Aula%2015/index.ipynb#W4sZmlsZQ%3D%3D?line=46'>47</a>\u001b[0m     cadastrarReceita()\n\u001b[0;32m     <a href='vscode-notebook-cell:/c%3A/Users/Sayumi/Documents/FULLSTACK/Aprendendo%20Python/Aulas/Aula%2015/index.ipynb#W4sZmlsZQ%3D%3D?line=47'>48</a>\u001b[0m \u001b[39melif\u001b[39;00m(menu \u001b[39m==\u001b[39m \u001b[39m4\u001b[39m):\n\u001b[0;32m     <a href='vscode-notebook-cell:/c%3A/Users/Sayumi/Documents/FULLSTACK/Aprendendo%20Python/Aulas/Aula%2015/index.ipynb#W4sZmlsZQ%3D%3D?line=48'>49</a>\u001b[0m     \u001b[39mpass\u001b[39;00m\n",
      "\u001b[1;32mc:\\Users\\Sayumi\\Documents\\FULLSTACK\\Aprendendo Python\\Aulas\\Aula 15\\index.ipynb Célula: 4\u001b[0m in \u001b[0;36mcadastrarReceita\u001b[1;34m()\u001b[0m\n\u001b[0;32m     <a href='vscode-notebook-cell:/c%3A/Users/Sayumi/Documents/FULLSTACK/Aprendendo%20Python/Aulas/Aula%2015/index.ipynb#W4sZmlsZQ%3D%3D?line=10'>11</a>\u001b[0m \u001b[39mprint\u001b[39m(\u001b[39m'\u001b[39m\u001b[39mCadastrar\u001b[39m\u001b[39m'\u001b[39m)\n\u001b[0;32m     <a href='vscode-notebook-cell:/c%3A/Users/Sayumi/Documents/FULLSTACK/Aprendendo%20Python/Aulas/Aula%2015/index.ipynb#W4sZmlsZQ%3D%3D?line=11'>12</a>\u001b[0m receita\u001b[39m.\u001b[39mappend(\u001b[39mint\u001b[39m(\u001b[39minput\u001b[39m(\u001b[39m'\u001b[39m\u001b[39mDigite o código da receita: \u001b[39m\u001b[39m'\u001b[39m)))\n\u001b[1;32m---> <a href='vscode-notebook-cell:/c%3A/Users/Sayumi/Documents/FULLSTACK/Aprendendo%20Python/Aulas/Aula%2015/index.ipynb#W4sZmlsZQ%3D%3D?line=12'>13</a>\u001b[0m receita\u001b[39m.\u001b[39mappend(\u001b[39mint\u001b[39;49m(\u001b[39minput\u001b[39;49m(\u001b[39m'\u001b[39;49m\u001b[39mDigite o nome da receita: \u001b[39;49m\u001b[39m'\u001b[39;49m)))\n\u001b[0;32m     <a href='vscode-notebook-cell:/c%3A/Users/Sayumi/Documents/FULLSTACK/Aprendendo%20Python/Aulas/Aula%2015/index.ipynb#W4sZmlsZQ%3D%3D?line=13'>14</a>\u001b[0m receita\u001b[39m.\u001b[39mappend(\u001b[39mint\u001b[39m(\u001b[39minput\u001b[39m(\u001b[39m'\u001b[39m\u001b[39mDigite a receita: \u001b[39m\u001b[39m'\u001b[39m)))\n\u001b[0;32m     <a href='vscode-notebook-cell:/c%3A/Users/Sayumi/Documents/FULLSTACK/Aprendendo%20Python/Aulas/Aula%2015/index.ipynb#W4sZmlsZQ%3D%3D?line=14'>15</a>\u001b[0m \u001b[39m# receita [codigo, nome, receita]\u001b[39;00m\n",
      "\u001b[1;31mValueError\u001b[0m: invalid literal for int() with base 10: 'Pizza'"
     ]
    }
   ],
   "source": [
    "todasReceitas = []\n",
    "receita = [] # <- criado nessa área, deve-se limpar para não concatenar \n",
    "\n",
    "def texto(valor):\n",
    "    print('-' * len(valor))\n",
    "    print(valor)\n",
    "    print('-' * len(valor))\n",
    "\n",
    "def cadastrarReceita():\n",
    "    # receita = [] <- criado nessa área, não é necessario limpar pois sempre começará do zero.\n",
    "    print('Cadastrar')\n",
    "    receita.append(int(input('Digite o código da receita: ')))\n",
    "    receita.append(input('Digite o nome da receita: '))\n",
    "    receita.append(input('Digite a receita: '))\n",
    "    # receita [codigo, nome, receita]\n",
    "    todasReceitas.append(receita[:])\n",
    "    # receitas [[codigo, nome, receita], [codigo, nome, receita], ...]\n",
    "    receita.clear()\n",
    "    print('Receita cadastrada com sucesso')\n",
    "\n",
    "def listarReceitas():\n",
    "    texto('Lista de Receitas')\n",
    "    for i in todasReceitas:\n",
    "        print(f'Cod: {i[0]}.... Nome: {i[1]}')\n",
    "        print('-' * 30)\n",
    "\n",
    "def lerReceita():\n",
    "    cod = int(input('Digite o código da receita que deseja ler: '))\n",
    "    for i in todasReceitas:\n",
    "        if i[0] == cod:\n",
    "            texto(i[1])\n",
    "            print('Receita: ')\n",
    "            print(i[2])\n",
    "    print('Receita não encontrada')\n",
    "\n",
    "\n",
    "\n",
    "texto('Site de Receitas')\n",
    "while(True):\n",
    "    menu = int(input(' 1 - Ler Receita \\n 2 - Listar Receitas \\n 3 - Cadastrar Receita \\n 4 - Alterar Receita \\n 5 - Sair'))\n",
    "    if(menu == 1):\n",
    "        lerReceita()\n",
    "    elif(menu == 2):\n",
    "        listarReceitas()\n",
    "    elif(menu == 3):\n",
    "        cadastrarReceita()\n",
    "    elif(menu == 4):\n",
    "        pass # dever de casa -> Tentar alterar uma receita selecionada pelo usuário, alterar nome e receita\n",
    "    elif(menu > 4):\n",
    "        break"
   ]
  }
 ],
 "metadata": {
  "kernelspec": {
   "display_name": "Python 3.10.5 64-bit (system)",
   "language": "python",
   "name": "python3"
  },
  "language_info": {
   "codemirror_mode": {
    "name": "ipython",
    "version": 3
   },
   "file_extension": ".py",
   "mimetype": "text/x-python",
   "name": "python",
   "nbconvert_exporter": "python",
   "pygments_lexer": "ipython3",
   "version": "3.10.5"
  },
  "orig_nbformat": 4,
  "vscode": {
   "interpreter": {
    "hash": "62a1b84b7cb3ac6eb72224cbb36e42312a73a58c0802c75590ecef1420dc8cb8"
   }
  }
 },
 "nbformat": 4,
 "nbformat_minor": 2
}
