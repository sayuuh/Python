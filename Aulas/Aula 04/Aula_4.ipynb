{
  "nbformat": 4,
  "nbformat_minor": 0,
  "metadata": {
    "colab": {
      "name": "Aula 4.ipynb",
      "provenance": [],
      "collapsed_sections": []
    },
    "kernelspec": {
      "name": "python3",
      "display_name": "Python 3"
    },
    "language_info": {
      "name": "python"
    }
  },
  "cells": [
    {
      "cell_type": "markdown",
      "source": [
        "**While**\n",
        "\n",
        "Laço de Repetição -> Estrutura de Repetição -> Loop -> Malha de Repetição\n",
        "\n",
        "While(condição):\n",
        "\n",
        "Faça\n"
      ],
      "metadata": {
        "id": "o0CWn1PY9fma"
      }
    },
    {
      "cell_type": "code",
      "execution_count": 1,
      "metadata": {
        "colab": {
          "base_uri": "https://localhost:8080/"
        },
        "id": "EozoTbEB9SrA",
        "outputId": "f38f1382-58e8-4f27-fcf9-c7529531bf66"
      },
      "outputs": [
        {
          "output_type": "stream",
          "name": "stdout",
          "text": [
            "Repetição\n",
            "Repetição\n",
            "Repetição\n",
            "Repetição\n",
            "Repetição\n",
            "Repetição\n",
            "Repetição\n",
            "Repetição\n",
            "Repetição\n",
            "Repetição\n"
          ]
        }
      ],
      "source": [
        "# for variavel in range(10):\n",
        "# while(testeLogico): -> contador <= Numero // variavel -> True\n",
        "\n",
        "contador = 0\n",
        "while(contador < 10):\n",
        "  print('Repetição')\n",
        "  contador += 1"
      ]
    },
    {
      "cell_type": "code",
      "source": [
        "continuar = True\n",
        "while(continuar):\n",
        "  menu = int(input('*** MENU *** \\n 1 - Continuar \\n 2 - Sair \\n R: '))\n",
        "  if(menu == 2):\n",
        "    continuar = False"
      ],
      "metadata": {
        "colab": {
          "base_uri": "https://localhost:8080/"
        },
        "id": "g69dEKSb-Hpx",
        "outputId": "6d79f18d-55e6-49e8-acd0-66bbc5ce8356"
      },
      "execution_count": 2,
      "outputs": [
        {
          "name": "stdout",
          "output_type": "stream",
          "text": [
            "*** MENU *** \n",
            " 1 - Continuar \n",
            " 2 - Sair \n",
            " R: 1\n",
            "*** MENU *** \n",
            " 1 - Continuar \n",
            " 2 - Sair \n",
            " R: 2\n"
          ]
        }
      ]
    },
    {
      "cell_type": "code",
      "source": [
        "# Faça um programa que peça uma nota, entre zero e dez. Mostr uma mensagem caso o valor seja inválido\n",
        "# e continue pedindo até que o usuário informe um valor válido.\n",
        "\n",
        "nota = True\n",
        "num = -1\n",
        "while(num < 0 or num > 10):\n",
        "  num = int(input('Digite um número: '))"
      ],
      "metadata": {
        "colab": {
          "base_uri": "https://localhost:8080/"
        },
        "id": "yeHLX9Qb-hbO",
        "outputId": "0f8cbb93-7030-4756-9c6c-cd49c2951e7f"
      },
      "execution_count": 4,
      "outputs": [
        {
          "name": "stdout",
          "output_type": "stream",
          "text": [
            "Digite um número: 50\n",
            "Digite um número: 20\n",
            "Digite um número: 10\n"
          ]
        }
      ]
    },
    {
      "cell_type": "code",
      "source": [
        "# Faça um programa que leia um nome de usuário e a sua senha e não aceite a senha igual ao nome de usuário,\n",
        "# mostrando uma mensagem de erro e voltando a pedir as informações.\n",
        "\n",
        "continuar = True\n",
        "while(continuar):\n",
        "  usuario = input('Digite um USUARIO: ')\n",
        "  senha = input('Digite a sua SENHA: ')\n",
        "  if(usuario != senha):\n",
        "    continuar = False\n",
        "  else:\n",
        "    print('Digite valores diferentes')"
      ],
      "metadata": {
        "colab": {
          "base_uri": "https://localhost:8080/"
        },
        "id": "yUePvSRW-5Ur",
        "outputId": "3ada72e8-08ea-48fc-9f0b-aa4926f8b62f"
      },
      "execution_count": 5,
      "outputs": [
        {
          "name": "stdout",
          "output_type": "stream",
          "text": [
            "Digite um USUARIO: sayu\n",
            "Digite a sua SENHA: sayu\n",
            "Digite valores diferentes\n",
            "Digite um USUARIO: sayu\n",
            "Digite a sua SENHA: 123\n"
          ]
        }
      ]
    },
    {
      "cell_type": "code",
      "source": [
        "# Desenvolva uma calculadora com menu para selecionar o tipo de conta:\n",
        "# adição, subtração, multiplicação e divisão.\n",
        "\n",
        "continuar = True\n",
        "while(continuar):\n",
        "  menu = input('*** CALCULADORA *** \\n 1 - Adição \\n 2 - Subtração \\n 3 - Multiplicação \\n 4 - Divisão \\n Digite outro valor para sair \\n')\n",
        "  if(menu.isnumeric):\n",
        "    menu = int(menu)\n",
        "    if(menu > 0 and menu < 5):\n",
        "      num1 = int(input(\"Digite um número: \"))\n",
        "      num2 = int(input(\"Digite outro número: \"))\n",
        "      if(menu == 1):\n",
        "        print(num1 + num2)\n",
        "      elif(menu == 2):\n",
        "        print(num1 - num2)\n",
        "      elif(menu == 3):\n",
        "        print(num1 * num2)\n",
        "      elif(menu == 4):\n",
        "        print(num1 / num2)\n",
        "    else:\n",
        "      continuar = False\n",
        "  else: \n",
        "    continuar = False"
      ],
      "metadata": {
        "colab": {
          "base_uri": "https://localhost:8080/"
        },
        "id": "2JSx61C5_gJW",
        "outputId": "45a28741-25d4-4bb0-df55-55fbed18b25f"
      },
      "execution_count": 8,
      "outputs": [
        {
          "name": "stdout",
          "output_type": "stream",
          "text": [
            "*** CALCULADORA *** \n",
            " 1 - Adição \n",
            " 2 - Subtração \n",
            " 3 - Multiplicação \n",
            " 4 - Divisão \n",
            " Digite outro valor para sair \n",
            "4\n",
            "Digite um número: 10\n",
            "Digite outro número: 20\n",
            "0.5\n",
            "*** CALCULADORA *** \n",
            " 1 - Adição \n",
            " 2 - Subtração \n",
            " 3 - Multiplicação \n",
            " 4 - Divisão \n",
            " Digite outro valor para sair \n",
            "6\n"
          ]
        }
      ]
    },
    {
      "cell_type": "code",
      "source": [
        "# Faça um programa que leia 5 números e informe a soma e a média dos números\n",
        "\n",
        "soma = 0\n",
        "contador = 0\n",
        "while(contador < 5):\n",
        "  num = int(input('Digite um número: '))\n",
        "  soma += num\n",
        "  contador += 1 # contador = contador + 1\n",
        "print('Total', soma)\n",
        "print('Média', soma / contador)"
      ],
      "metadata": {
        "colab": {
          "base_uri": "https://localhost:8080/"
        },
        "id": "f6vRMJH1BBRj",
        "outputId": "d4ff6f24-783e-4de0-d035-c5bf4c050ec4"
      },
      "execution_count": 9,
      "outputs": [
        {
          "output_type": "stream",
          "name": "stdout",
          "text": [
            "Digite um número: 50\n",
            "Digite um número: 2\n",
            "Digite um número: 4\n",
            "Digite um número: 6\n",
            "Digite um número: 8\n",
            "Total 70\n",
            "Média 14.0\n"
          ]
        }
      ]
    },
    {
      "cell_type": "code",
      "source": [
        "# Faça um jogo da sorte que guarde um número (0 - 99) e peça para o usuário\n",
        "# tentar acertar o número, exiba se errou pra mais ou menos\n",
        "\n",
        "from random import randint\n",
        "\n",
        "segredo = randint(0, 99)\n",
        "continuar = True\n",
        "contador = 1\n",
        "while(continuar):\n",
        "  chute = int(input('Digite um valor entre 0 e 99:\\n'))\n",
        "  if(chute == segredo):\n",
        "    print('Você acertou, mizeravi', segredo)\n",
        "    print('VOcê usou {} chances!' .format(contador))\n",
        "    continuar = False\n",
        "  elif(chute > segredo):\n",
        "    print('Menos')\n",
        "  else:\n",
        "    print('Mais')\n",
        "  contador += 1"
      ],
      "metadata": {
        "id": "9LQpjEZWB_DD"
      },
      "execution_count": null,
      "outputs": []
    },
    {
      "cell_type": "code",
      "source": [
        ""
      ],
      "metadata": {
        "id": "OMiEImfDCy5A"
      },
      "execution_count": null,
      "outputs": []
    }
  ]
}