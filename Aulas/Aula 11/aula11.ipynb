{
 "cells": [
  {
   "cell_type": "markdown",
   "metadata": {},
   "source": [
    "Python\n",
    "Revisão\n"
   ]
  },
  {
   "cell_type": "code",
   "execution_count": 2,
   "metadata": {},
   "outputs": [
    {
     "name": "stdout",
     "output_type": "stream",
     "text": [
      "Você está dentro do orçamento\n"
     ]
    }
   ],
   "source": [
    "''' \n",
    "    Faça um programa que o usuário informe o salário recebido e o total gasto.\n",
    "    Deverá ser exibido na tela “Gastos dentro do orçamento” caso o valor gasto não\n",
    "    ultrapasse o valor do salário e “Orçamento estourado” se o valor gasto\n",
    "    ultrapassar o valor do salário.\n",
    "'''\n",
    "\n",
    "# Para onde eu vou -> Função do meu programa (Entendendo enunciados) \n",
    "# Como eu vou -> Como eu faço pra chegar lá \n",
    "\n",
    "def responderUsuario(msg):\n",
    "    print(msg)\n",
    "\n",
    "def receberDados(msg):\n",
    "    return float(input(msg))\n",
    "\n",
    "def verificaGasto(sal, gasto):\n",
    "    if(gasto <= sal):\n",
    "        responderUsuario('Você está dentro do orçamento')\n",
    "    else:\n",
    "        responderUsuario('Você está fora do orçamento. Cuidado!')\n",
    "\n",
    "salario = receberDados('Digite o seu salário: ')\n",
    "gasto = receberDados('Digite o total do seu gasto mensal: ')\n",
    "\n",
    "verificaGasto(salario, gasto)\n"
   ]
  },
  {
   "cell_type": "code",
   "execution_count": 2,
   "metadata": {},
   "outputs": [
    {
     "name": "stdout",
     "output_type": "stream",
     "text": [
      "A média ponderada é 30.0\n"
     ]
    }
   ],
   "source": [
    "''' \n",
    "    Escrever um programa em Python que lê um valor i, inteiro e positivo e 3 valores a, b e c. Se o valor de i é par então calcular e imprimir na tela a média aritmética de a, b e c. Caso contrário, se i>10 então calcular e imprimir na tela a média ponderada de a, b e c. Os pesos dos valores são respectivamente 2, 3 e 4.\n",
    "'''\n",
    "\n",
    "def receberDados(msg):\n",
    "    return input(msg)\n",
    "\n",
    "def verificaInteiro(valor):\n",
    "    if(valor.isnumeric()):\n",
    "        if(int(valor) > 0):\n",
    "            return True\n",
    "        else:\n",
    "            return False\n",
    "    else:\n",
    "        return False\n",
    "\n",
    "def converteInInt(valor):\n",
    "    return int(valor)\n",
    "\n",
    "while(True):           \n",
    "    i = receberDados('Digite um número inteiro: ')\n",
    "    if(verificaInteiro(i)):\n",
    "        i = converteInInt(i)\n",
    "        break\n",
    "    else:\n",
    "        print('Não é um número inteiro e positivo')\n",
    "\n",
    "a = converteInInt(receberDados('Digite o Valor de a: '))\n",
    "b = converteInInt(receberDados('Digite o Valor de b: '))\n",
    "c = converteInInt(receberDados('Digite o Valor de c: '))\n",
    "\n",
    "if(i % 2 == 0):\n",
    "    media = (a + b + c) / 3\n",
    "    print(f'A média aritmetica é {media}')\n",
    "elif(i > 10):\n",
    "    media = ((a * 2) + (b * 3) + (c * 4)) / 9\n",
    "    print(f'A média ponderada é {round{media, 2}}')\n",
    "else:\n",
    "    print('Tchau')"
   ]
  },
  {
   "cell_type": "code",
   "execution_count": 3,
   "metadata": {},
   "outputs": [
    {
     "name": "stdout",
     "output_type": "stream",
     "text": [
      "Fahrenheit to Celcius\n",
      "200.0 °F são 93.33333333333334°C\n"
     ]
    }
   ],
   "source": [
    "''' \n",
    "    Faça um programa onde o usuário irá escolhe se que Converte graus Celsius para Fahrenheit ou Fahrenheit para Celsius.\n",
    "'''\n",
    "\n",
    "menu = int(input(' 1 - Celcius para Fahrenheit \\n 2 - Fahrenheit para Celcius \\n 3 - Sair R: '))\n",
    "\n",
    "if(menu == 1):\n",
    "    print('Celcius to Fahrenheit') # (0 °C x 9/5) + 32 = 32 °F\n",
    "    celcius = float(input('Digite a temperatura em Celcius: '))\n",
    "    formula = (celcius * (9/5) + 32)\n",
    "    print(f'{celcius}°C são {formula}°F')\n",
    "elif(menu == 2):\n",
    "    print('Fahrenheit to Celcius') # (32 ° F - 32) x 5/9 = 0 °C\n",
    "    fahrenheit = float(input('Digite a temperatura em Fahrenheit: '))\n",
    "    formula = (fahrenheit - 32) * (5/9) \n",
    "    print(f'{fahrenheit} °F são {formula}°C')\n",
    "else:\n",
    "    print('Tchau')"
   ]
  },
  {
   "cell_type": "code",
   "execution_count": null,
   "metadata": {},
   "outputs": [],
   "source": [
    "# Fazer um programa para encontrar todos os números pares entre 1 e 100.\n",
    "\n",
    "for i in range(100):\n",
    "    if(i % 2 == 0):\n",
    "        print(i)\n",
    "\n",
    "numeros = 1\n",
    "while(numeros <= 100):\n",
    "    if(numeros % 2 == 0):\n",
    "        print(numeros)\n",
    "    numeros += 1\n",
    "\n",
    "numero = []\n",
    "for i in range(1, 101):\n",
    "    if(i % 2 == 0):\n",
    "        numero.append(1)\n",
    "print(numero)\n",
    "\n",
    "numerosPares = ' '\n",
    "for i in range(1, 100):\n",
    "    if(i % 2 == 0):\n",
    "        numerosPares += f'{i}'\n",
    "print(numerosPares)"
   ]
  },
  {
   "cell_type": "code",
   "execution_count": null,
   "metadata": {},
   "outputs": [],
   "source": [
    "noIntervalo = 0 \n",
    "foraDoIntervalo = 0\n",
    "\n",
    "for i in range(10):\n",
    "    numero = int(input('Digite um número: '))\n",
    "    if(20 >= numero >=10):\n",
    "        noIntervalo +=1\n",
    "    else:\n",
    "        foraDoIntervalo += 1\n",
    "        "
   ]
  }
 ],
 "metadata": {
  "kernelspec": {
   "display_name": "Python 3.10.5 64-bit",
   "language": "python",
   "name": "python3"
  },
  "language_info": {
   "codemirror_mode": {
    "name": "ipython",
    "version": 3
   },
   "file_extension": ".py",
   "mimetype": "text/x-python",
   "name": "python",
   "nbconvert_exporter": "python",
   "pygments_lexer": "ipython3",
   "version": "3.10.5"
  },
  "orig_nbformat": 4,
  "vscode": {
   "interpreter": {
    "hash": "62a1b84b7cb3ac6eb72224cbb36e42312a73a58c0802c75590ecef1420dc8cb8"
   }
  }
 },
 "nbformat": 4,
 "nbformat_minor": 2
}
