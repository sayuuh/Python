{
  "nbformat": 4,
  "nbformat_minor": 0,
  "metadata": {
    "colab": {
      "name": "Aula2.ipynb",
      "provenance": [],
      "collapsed_sections": []
    },
    "kernelspec": {
      "name": "python3",
      "display_name": "Python 3"
    },
    "language_info": {
      "name": "python"
    }
  },
  "cells": [
    {
      "cell_type": "code",
      "execution_count": null,
      "metadata": {
        "colab": {
          "base_uri": "https://localhost:8080/"
        },
        "id": "jqcoYpPxAhg1",
        "outputId": "3333d5b5-78fb-4192-b59d-50d5dee98010"
      },
      "outputs": [
        {
          "output_type": "stream",
          "name": "stdout",
          "text": [
            "Digite o seu sexo (M/F): f\n",
            "Sexo Feminino\n"
          ]
        }
      ],
      "source": [
        "# Faça um programa que verifique (usando if e else) se uma letra digitada é \"F\" ou \"M\".\n",
        "# Conforme a letra escrever: F - Feminino, M - Masculino, Sexo inválido. \n",
        "\n",
        "sexo = input('Digite o seu sexo (M/F): ').upper() #ABCDEFGHIJKLMNOPQRSTUVWXYZ\n",
        "if(sexo == 'M'):\n",
        "  print('Sexo Masculino')\n",
        "elif(sexo == 'F'):\n",
        "  print('Sexo Feminino')\n",
        "else:\n",
        "  print('Valor inválido')"
      ]
    },
    {
      "cell_type": "code",
      "source": [
        "# faça um programa que verifique se uma letra digitada é vogal ou consoante.\n",
        "\n",
        "# Pego valor do usuário (entrada de valor)\n",
        "letra = input('Digite uma letra: ').lower() #abcdefghijklmnopqrstuvwxyz\n",
        "if(letra == 'a' or letra == 'e' or letra == 'i' or letra == 'o' or letra == 'u'):\n",
        "  print('É uma vogal')\n",
        "else:\n",
        "  print('É uma consoante')"
      ],
      "metadata": {
        "colab": {
          "base_uri": "https://localhost:8080/"
        },
        "id": "LBPVVV8VCZvb",
        "outputId": "9af83197-bdce-493c-f61b-0a0792550588"
      },
      "execution_count": null,
      "outputs": [
        {
          "output_type": "stream",
          "name": "stdout",
          "text": [
            "Digite uma letra: s\n",
            "É uma consoante\n"
          ]
        }
      ]
    },
    {
      "cell_type": "code",
      "source": [
        "# Faça um programa que verifique (utilizando if e else) se uma letra digitada é \n",
        "# vogal ou consoante e se foi letra inválida.\n",
        "\n",
        "letra = input('Digite uma letra: ').lower()\n",
        "\n",
        "if(len(letra) == 1):\n",
        "  # se a quantidade de letra for igual a 1, faça.\n",
        "  if(letra.isalpha()): # é um valor alfabético? true // false\n",
        "    # se for letra\n",
        "    if(letra == 'a' or letra == 'e' or letra == 'i' or letra == 'o' or letra == 'u'):\n",
        "      print('Digitou uma vogal.')\n",
        "    else:\n",
        "      print('É uma consoante')\n",
        "  else:\n",
        "    # se não for letra\n",
        "    print('Não é uma letra válida')\n",
        "else:\n",
        "  # se for diferente de 1, faça.\n",
        "  print('Não é um valor válido.')\n",
        "\n"
      ],
      "metadata": {
        "colab": {
          "base_uri": "https://localhost:8080/"
        },
        "id": "zM_b-FT6DbIn",
        "outputId": "da9471f7-bae8-4b8d-ac36-22d1b3cc3acd"
      },
      "execution_count": null,
      "outputs": [
        {
          "output_type": "stream",
          "name": "stdout",
          "text": [
            "Digite uma letra: sayumi\n",
            "Não é um valor válido.\n"
          ]
        }
      ]
    },
    {
      "cell_type": "code",
      "source": [
        "# Ler um número e verificar se é um número\n",
        "# após verificar, exibir o seu antecessor, seu sucessor, se é par ou ímpar. \n",
        "\n",
        "numero = input('Digite um número: ')\n",
        "if(numero.isnumeric()):\n",
        "  numero = int(numero)\n",
        "  if(numero % 2 == 0): # o resto da divisão é igual a zero?\n",
        "    print('Par')\n",
        "  else:\n",
        "    print('Impar')\n",
        "\n",
        "  print('Seu antecessor é:', numero - 1)\n",
        "  print('Seu sucessor é:', numero + 1)\n",
        "else:\n",
        "  print('Digite um valor válido.')"
      ],
      "metadata": {
        "colab": {
          "base_uri": "https://localhost:8080/"
        },
        "id": "Fr_I-dqlEmH6",
        "outputId": "f74b6c81-b04a-47f0-8007-2c24507c002b"
      },
      "execution_count": null,
      "outputs": [
        {
          "output_type": "stream",
          "name": "stdout",
          "text": [
            "Digite um número: 33\n",
            "Impar\n",
            "Seu antecessor é: 32\n",
            "Seu sucessor é: 34\n"
          ]
        }
      ]
    },
    {
      "cell_type": "code",
      "source": [
        "# Faça um programa que pergunte em que turno você estuda.\n",
        "# Peça para digitar: M - Matutino, V - Vespertino ou N - Noturno.\n",
        "# Imprima a mensagem \"Bom dia!\", \"Boa tarde!\", \"Boa noite!\" ou \"Valor inválido\"\n",
        "\n",
        "turno = input('Digite o seu turno: M - Matutino, V - Vespertino ou N - Noturno -> ').upper()\n",
        "\n",
        "# quantidade de letras\n",
        "if(len(turno) == 1): # se tiver só um caracter eu faço\n",
        "  if(turno == 'M' or turno == 'V' or turno == 'N'):\n",
        "    if(turno == 'M'):\n",
        "      print('Bom dia!')\n",
        "    elif(turno == 'V'):\n",
        "      print('Boa tarde!')\n",
        "    else:\n",
        "      print('Boa noite!')\n",
        "  else:\n",
        "    print('Digite um valor válido.')\n",
        "else:\n",
        "  print('Digite um valor válido.')\n"
      ],
      "metadata": {
        "colab": {
          "base_uri": "https://localhost:8080/"
        },
        "id": "m1HUuzBsGohF",
        "outputId": "fa927512-62bf-434b-a0cf-a782599137d4"
      },
      "execution_count": null,
      "outputs": [
        {
          "output_type": "stream",
          "name": "stdout",
          "text": [
            "Digite o seu turno: M - Matutino, V - Vespertino ou N - Noturno -> m\n",
            "Bom dia!\n"
          ]
        }
      ]
    },
    {
      "cell_type": "code",
      "source": [
        "'''\n",
        "As organizações CSM resolveram dar um aumento de salário aos seus colaboradores \n",
        "e lhe contrataram para desenvolver o programa que recalculará os ajustes. \n",
        "\n",
        "a. Faça um programa que recebe o salário de um colaborador e o reajuste segundo o seguinte critério, baseado no salário atual.\n",
        "b. Salários até 280,00 (incluindo): aumento de 20%\n",
        "c. Salários entre 280,00 e 700,00: aumento de 15%\n",
        "d. Salários entre 700,00 e 1500,00: aumento de 10%\n",
        "e. Salários de 1500,00 em diante: aumento de 5%\n",
        "\n",
        "Após o aumento ser realizado, informe:\n",
        "a. O salário antes do reajuste\n",
        "b. O percentual de aumento aplicado\n",
        "c. O valor do aumento\n",
        "d. O valor do novo salário após o aumento\n",
        "'''\n",
        "\n",
        "salario = float(input('Digite o seu salário: '))\n",
        "percentual = 0\n",
        "salarioNovo = 0\n",
        "aumento = 0\n",
        "\n",
        "if(salario <= 280):\n",
        "  percentual = 20\n",
        "elif(salario < 700):\n",
        "  percentual = 15\n",
        "elif(salario < 1500):\n",
        "  percentual = 10\n",
        "else:\n",
        "  percentual = 5\n",
        "\n",
        "salarioNovo = salario * (percentual / 100 + 1)\n",
        "aumento = salarioNovo - salario\n",
        "\n",
        "print('a. Salário: ', round(salario, 2))\n",
        "print('b. Percentual de aumento: ', percentual, \"%\")\n",
        "print('c. Aumento: ', round(aumento, 2))\n",
        "print('d. Novo salário: ', round(salarioNovo, 2))"
      ],
      "metadata": {
        "colab": {
          "base_uri": "https://localhost:8080/"
        },
        "id": "99j8B85QIAao",
        "outputId": "eeda3f6d-d6b5-4b59-a14e-c6348fed19be"
      },
      "execution_count": null,
      "outputs": [
        {
          "output_type": "stream",
          "name": "stdout",
          "text": [
            "Digite o seu salário: 2500\n",
            "a. Salário:  2500.0\n",
            "b. Percentual de aumento:  5 %\n",
            "c. Aumento:  125.0\n",
            "d. Novo salário:  2625.0\n"
          ]
        }
      ]
    },
    {
      "cell_type": "code",
      "source": [
        ""
      ],
      "metadata": {
        "id": "hveRe54Heppm"
      },
      "execution_count": null,
      "outputs": []
    }
  ]
}