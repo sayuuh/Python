{
 "cells": [
  {
   "cell_type": "code",
   "execution_count": null,
   "metadata": {},
   "outputs": [],
   "source": [
    "# Classes: Relação de Composição\n",
    "\n",
    "### Cliente\n",
    "    - nome: str\n",
    "    - cpf: str\n",
    "    ________________________________\n",
    "    + listar_cliente()\n",
    "\n",
    "---\n",
    "\n",
    "### Conta\n",
    "    - numero: int\n",
    "    - saldo: float\n",
    "    - titular: Cliente\n",
    "    - historico: Historico\n",
    "    ________________________________\n",
    "    + listar_conta()\n",
    "    + sacar()\n",
    "    + depositar()\n",
    "    + transferir()\n",
    "    + transacoes()\n",
    "\n",
    "---\n",
    "\n",
    "### Historico\n",
    "    - transacoes: []\n",
    "    ________________________________\n",
    "    + adicionar_transacao()\n",
    "    + listar_historico()"
   ]
  }
 ],
 "metadata": {
  "kernelspec": {
   "display_name": "Python 3.10.5 64-bit",
   "language": "python",
   "name": "python3"
  },
  "language_info": {
   "name": "python",
   "version": "3.10.5"
  },
  "orig_nbformat": 4,
  "vscode": {
   "interpreter": {
    "hash": "62a1b84b7cb3ac6eb72224cbb36e42312a73a58c0802c75590ecef1420dc8cb8"
   }
  }
 },
 "nbformat": 4,
 "nbformat_minor": 2
}
