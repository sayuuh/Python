{
 "cells": [
  {
   "cell_type": "markdown",
   "metadata": {},
   "source": [
    "Cliente\n",
    "\n",
    "- codigo\n",
    "+ nome\n",
    "+ sexo\n",
    "+ telefone\n",
    "+ endereco\n",
    "+ gerar_codigo_usuario()\n",
    "+ atualizar_endereco()\n",
    "+ atualizar_telefone()\n",
    "+ listar_cliente()\n",
    "\n",
    "Funcionario\n",
    "\n",
    "- codigo\n",
    "+ nome\n",
    "+ sexo\n",
    "+ telefone\n",
    "+ endereco\n",
    "+ horas_trabalhadas\n",
    "- salario\n",
    "+ gerar_codigo_funcionario()\n",
    "+ atualizar_endereco()\n",
    "+ atualizar_telefone()\n",
    "+ listar_funcionario()\n",
    "+ adicionar_horas_trabalhadas(horas)\n",
    "+ calcular_salario()\n",
    "\n",
    "Aula\n",
    "\n",
    "Cliente\n",
    "nome \n",
    "cpf\n",
    "comprar()\n",
    "falar()\n",
    "Funcionario\n",
    "nome\n",
    "cpf\n",
    "falar()\n",
    "vender()\n",
    "\n",
    "CASA\n",
    "PROJETO DA ESCOLA\n",
    "\n",
    "Professor\n",
    "- atr:class materia = ['Matemática', 'Português', 'História', 'Química', 'Física', 'Geografia']\n",
    "- nome: str\n",
    "- cpf: str\n",
    "- materia: int\n",
    "+ listar_professor()\n",
    "Aluno\n",
    "- nome: str\n",
    "- ano_nascimento: int\n",
    "- ano_escolar: int\n",
    "+ listar_aluno()\n",
    "+ alterar_ano_escolar()\n",
    "+ idade_aluno()"
   ]
  }
 ],
 "metadata": {
  "kernelspec": {
   "display_name": "Python 3.10.5 64-bit",
   "language": "python",
   "name": "python3"
  },
  "language_info": {
   "name": "python",
   "version": "3.10.5"
  },
  "orig_nbformat": 4,
  "vscode": {
   "interpreter": {
    "hash": "62a1b84b7cb3ac6eb72224cbb36e42312a73a58c0802c75590ecef1420dc8cb8"
   }
  }
 },
 "nbformat": 4,
 "nbformat_minor": 2
}
