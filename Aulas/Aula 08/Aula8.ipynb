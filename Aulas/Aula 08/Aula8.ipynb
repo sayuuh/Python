{
  "nbformat": 4,
  "nbformat_minor": 0,
  "metadata": {
    "colab": {
      "name": "Aula8.ipynb",
      "provenance": [],
      "collapsed_sections": []
    },
    "kernelspec": {
      "name": "python3",
      "display_name": "Python 3"
    },
    "language_info": {
      "name": "python"
    }
  },
  "cells": [
    {
      "cell_type": "markdown",
      "source": [
        "## **Exercícios Lista e Funções**\n",
        "\n",
        "Ler um Vetor com 10 nomes de pessoas, após pedir que o usuário digite um nome qualquer de pessoa. Escrever a mensagem \"ACHEI\", se o nome estiver armazenado no vetor C ou \"NÃO ACHEI\" caso contrário. "
      ],
      "metadata": {
        "id": "PmViiCj9vDwD"
      }
    },
    {
      "cell_type": "code",
      "source": [
        "def perguntaNome(msg):\n",
        "  return input(msg)\n",
        "nomes = []\n",
        "\n",
        "for i in range(3):\n",
        "  nomes.append(perguntaNome(\"Cadastre um nome: \"))\n",
        "\n",
        "nome = perguntaNome(\"Pesquisar um nome: \")\n",
        "\n",
        "if nome in nomes:\n",
        "  print(\"Achei\")\n",
        "else:\n",
        "  print(\"Não achei\")\n"
      ],
      "metadata": {
        "id": "oMNw1PMxvY03",
        "colab": {
          "base_uri": "https://localhost:8080/"
        },
        "outputId": "017cb5bc-a532-40d1-ee94-bbb49113b042"
      },
      "execution_count": null,
      "outputs": [
        {
          "output_type": "stream",
          "name": "stdout",
          "text": [
            "Cadastre um nome: SAYU\n",
            "Cadastre um nome: AKIO\n",
            "Cadastre um nome: KENJI\n",
            "Pesquisar um nome: LOR\n",
            "Não achei\n"
          ]
        }
      ]
    },
    {
      "cell_type": "code",
      "source": [
        "''' \n",
        "1. Faca um programa que possua um vetor denominado A que armazene 6 numeros intei- ´\n",
        "ros. O programa deve executar os seguintes passos:\n",
        "    (a) Atribua os seguintes valores a esse vetor: 1, 0, 5, -2, -5, 7.\n",
        "    (b) Armazene em uma variavel inteira (simples) a soma entre os valores das posicoes ˜\n",
        "    A[0], A[1] e A[5] do vetor e mostre na tela esta soma.\n",
        "    (c) Modifique o vetor na posic¸ao 4, atribuindo a esta posic¸ ˜ ao o valor 100. ˜\n",
        "    (d) Mostre na tela cada valor do vetor A, um em cada linha.\n",
        "\n",
        "''' \n",
        "def somarLista(x, y, z):\n",
        "  return A[x] + A[y] + A[z]\n",
        "def alterarLista(indice, valor):\n",
        "  A[indice] = valor\n",
        "def listarItens():\n",
        "  print('LISTA')\n",
        "  for valor in A:\n",
        "    print(valor)\n",
        "\n",
        "A = [1, 0, 5, -2, -5, 7]\n",
        "soma = A[0] + A[1] + A[5]\n",
        "print(f\"O total do somatório foi {soma}\")\n",
        "A[4] = 100\n",
        "\n",
        "# Exibir cada valor da lista em uma linha\n",
        "for i in range (len(A)):\n",
        "  print(A[i])\n",
        "\n",
        "# Alterar o valor da lista pelo indice\n",
        "alterarLista(4, 100)\n",
        "\n",
        "# Exibir cada valor da lista em uma linha\n",
        "listarItens()\n"
      ],
      "metadata": {
        "id": "MnW70j1bxMRz"
      },
      "execution_count": null,
      "outputs": []
    },
    {
      "cell_type": "code",
      "source": [
        "# 2. Crie um programa que le 6 valores inteiros e, em seguida, mostre na tela os valores lidos.\n",
        "def testarInteiro(teste):\n",
        "  while(True):\n",
        "    if(teste.isnumeric()):\n",
        "      return int(teste)\n",
        "    else:\n",
        "      teste = input('Digite um número inteiro R: ')\n",
        "\n",
        "def receberValores():\n",
        "  valor = input('Digite um número inteiro R: ')\n",
        "  return testarInteiro(valor)\n",
        "\n",
        "def salvarValores(qnt):\n",
        "  for i in range(qnt):\n",
        "    valores.append(receberValores())\n",
        "valores = []\n",
        "\n",
        "salvarValores(6)\n",
        "print(valores)"
      ],
      "metadata": {
        "id": "NX3V_BBjz1D8",
        "colab": {
          "base_uri": "https://localhost:8080/"
        },
        "outputId": "165acca9-3ca8-43b5-c911-e7b03cac8e47"
      },
      "execution_count": null,
      "outputs": [
        {
          "output_type": "stream",
          "name": "stdout",
          "text": [
            "Digite um número inteiro R: 2\n",
            "Digite um número inteiro R: 4\n",
            "Digite um número inteiro R: 6\n",
            "Digite um número inteiro R: 8\n",
            "Digite um número inteiro R: 10\n",
            "Digite um número inteiro R: 12\n",
            "[2, 4, 6, 8, 10, 12]\n"
          ]
        }
      ]
    },
    {
      "cell_type": "code",
      "source": [
        "''' \n",
        "    3. Ler um conjunto de numeros reais, armazenando-o em vetor e calcular o quadrado das ´\n",
        "    componentes deste vetor, armazenando o resultado em outro vetor. Os conjuntos temˆ\n",
        "    10 elementos cada. Imprimir todos os conjuntos.\n",
        "\n",
        "'''\n",
        "def lerNumerosReais():\n",
        "  return float(input(\"Digite um número: \"))\n",
        "\n",
        "def gravarNumeros(qnt):\n",
        "  for i in range(qnt):\n",
        "   numeros.append(lerNumerosReais())\n",
        "\n",
        "def gerarQuadradoNumeros():\n",
        "  for i in range(len(numeros)):\n",
        "    numerosQuadrados.append(numeros[i] * numeros[i])\n",
        "numeros = []\n",
        "numerosQuadrados = []\n",
        "\n",
        "\n",
        "gravarNumeros(3)\n",
        "print(numeros)\n",
        "gerarQuadradoNumeros()\n",
        "print(numerosQuadrados)"
      ],
      "metadata": {
        "colab": {
          "base_uri": "https://localhost:8080/"
        },
        "id": "ATqwNu_H1phJ",
        "outputId": "cbfd403a-0b9b-45c6-f1d2-02f6065d04a3"
      },
      "execution_count": null,
      "outputs": [
        {
          "output_type": "stream",
          "name": "stdout",
          "text": [
            "Digite um número: 10\n",
            "Digite um número: 20\n",
            "Digite um número: 30\n",
            "[10.0, 20.0, 30.0]\n",
            "[100.0, 400.0, 900.0]\n"
          ]
        }
      ]
    },
    {
      "cell_type": "code",
      "source": [
        "''' \n",
        "    4. Fazer um menu de uma plataforma que pode LOGAR, CADASTRAR, LISTAR USUARIO / SENHA e  SAIR\n",
        "    (a) Login -> Usuario e Senha\n",
        "        (1) Usuário deve ser encontrado no banco\n",
        "        (2) Senha deve ser igual a do usuário do banco\n",
        "        (3) Exibir error se o usuário não for encontrado\n",
        "        (4) Exibir erro de senha, se não for igual\n",
        "        (5) Exibir msg logado\n",
        "    (b) Cadastrar -> Usuário, senha e confirmar senha \n",
        "        (1) Usuário deve ser único no banco\n",
        "        (2) Senhas deve ser iguais, maiores que 5 caracteres e alfanumericos\n",
        "        (3) Exibir error se o usuário ja estiver cadastrado e pedir para usar novo Usuário\n",
        "        (4) Exibir erro de senha, se for menor que 6 e se não forem iguais \n",
        "        (5) Exibir msg de cadastrado e Voltar para o menu de login\n",
        "    (c) Listar Usuario e Senha\n",
        "        (1) Nome ususario -  ***\n",
        "    (d) SAIR\n",
        "'''\n",
        "\n",
        "def linhas(qnt):\n",
        "  print('=' * (qnt + 2))\n",
        "\n",
        "def exibirMensagem(msg):\n",
        "  print(msg)\n",
        "  linhas(len(msg))\n",
        "\n",
        "def menu():\n",
        "  titulo = \"Padaria dos sonhos\"\n",
        "  linhas(len(titulo))\n",
        "  print(titulo)\n",
        "  linhas(len(titulo))\n",
        "  return int(input(' 1 - LOGAR \\n 2 - CADASTRAR \\n 3 - LISTAR \\n 4 - SAIR \\n R: '))\n",
        "\n",
        "def listarUsuario():\n",
        "  exibirMensagem('LISTA DE USUÁRIOS')\n",
        "  for i in range(len(usuarios)): # 10\n",
        "    print(f'Usuário {usuarios[i]} - Senha: {senhas[i]}')\n",
        "  linhas(20)\n",
        "\n",
        "def receberDadosDoUsuario(msg):\n",
        "  return input(msg)\n",
        "\n",
        "def verificaUsuario(usuario):\n",
        "  while(True):\n",
        "    if(usuario in usuarios):\n",
        "      return True\n",
        "    else:\n",
        "      return False\n",
        "\n",
        "def verificaSenha(usuario, senha):\n",
        "  if(usuario in usuarios):\n",
        "    indice = usuarios.index(usuario) # retorna o índice do nome \n",
        "    if(senha in senhas[indice]):\n",
        "      return True \n",
        "    else:\n",
        "      return False\n",
        "  else:\n",
        "    return False\n",
        "\n",
        "def logar():\n",
        "  usuario = receberDadosDoUsuario('Digite seu nome de usuário: ')\n",
        "  if(not verificaUsuario(usuario)):\n",
        "    exibirMensagem('ERROR: Usuário não encontrado!')\n",
        "    return False\n",
        "  else:\n",
        "    senha = receberDadosDoUsuario('Digite a sua senha: ')\n",
        "    if(not verificaSenha(usuario, senha)):\n",
        "      exibirMensagem('ERROR: Senha incorreta!')\n",
        "      return False\n",
        "    else:\n",
        "      return True\n",
        "\n",
        "def cadastrar():\n",
        "  while(True):\n",
        "    usuario = receberDadosDoUsuario('Digite o nome de usuário: ')\n",
        "    if(verificaUsuario(usuario)):\n",
        "      exibirMensagem('ERROR: Usuário já é cadastrado.\\nEscolha outro nome de usuário.')\n",
        "    else:\n",
        "      senha = receberDadosDoUsuario('Digite sua senha: ')\n",
        "      if(len(senha) < 6 or not senha.isalnum()):\n",
        "        exibirMensagem('ERROR: Senha deve ter mais de 6 caracteres e ser numerica.')\n",
        "      else: \n",
        "        confirmaSenha = receberDadosDoUsuario('Confirme a senha: ')\n",
        "        if(senha != confirmaSenha):\n",
        "          exibirMensagem('As senhas devem ser identicas')\n",
        "        else:\n",
        "          usuarios.append(usuario)\n",
        "          senhas.append(senha)\n",
        "          exibirMensagem(f'Usuário {usuario} cadastrado com sucesso')\n",
        "          break\n",
        "\n",
        "escolhaDoMenu = 0\n",
        "usuarios = ['Sayumi', 'Akio']\n",
        "senhas = ['1912521', '2580']\n",
        "\n",
        "while(True):\n",
        "  escolhaDoMenu = menu()\n",
        "  if(escolhaDoMenu == 1):\n",
        "    exibirMensagem('Usuário conectado com sucesso!')\n",
        "    break\n",
        "  elif(escolhaDoMenu == 2):\n",
        "    cadastrar()\n",
        "  elif(escolhaDoMenu == 3):\n",
        "    listarUsuario()\n",
        "  else:\n",
        "    print('sair')"
      ],
      "metadata": {
        "id": "yJZRvjcA2v26"
      },
      "execution_count": null,
      "outputs": []
    },
    {
      "cell_type": "code",
      "source": [
        ""
      ],
      "metadata": {
        "id": "6laJxPjj8WGA"
      },
      "execution_count": null,
      "outputs": []
    }
  ]
}