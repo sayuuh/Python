{
  "nbformat": 4,
  "nbformat_minor": 0,
  "metadata": {
    "colab": {
      "name": "Aula1.ipynb",
      "provenance": [],
      "collapsed_sections": []
    },
    "kernelspec": {
      "name": "python3",
      "display_name": "Python 3"
    },
    "language_info": {
      "name": "python"
    }
  },
  "cells": [
    {
      "cell_type": "code",
      "execution_count": null,
      "metadata": {
        "colab": {
          "base_uri": "https://localhost:8080/"
        },
        "id": "IQUbUgK1iYCR",
        "outputId": "6cf228df-6ee6-4562-8c71-db9866a865c2"
      },
      "outputs": [
        {
          "output_type": "stream",
          "name": "stdout",
          "text": [
            "Hello, world!\n"
          ]
        }
      ],
      "source": [
        "print(\"Hello, world!\")"
      ]
    },
    {
      "cell_type": "code",
      "source": [
        "print(\"Aprendendo Python\")"
      ],
      "metadata": {
        "colab": {
          "base_uri": "https://localhost:8080/"
        },
        "id": "ff-g9B-vjphL",
        "outputId": "e27cae69-37f4-445d-92dc-f78da1c8acec"
      },
      "execution_count": null,
      "outputs": [
        {
          "output_type": "stream",
          "name": "stdout",
          "text": [
            "Aprendendo Python\n"
          ]
        }
      ]
    },
    {
      "cell_type": "code",
      "source": [
        "# String, Int, Float, Boolean\n",
        "nota1 = 10\n",
        "_nota1 = 10.5\n",
        "A = 1\n",
        "a = 2\n",
        "ação = '10'\n",
        "jogar = True\n",
        "dançar = False\n",
        "\n",
        "print(dançar)"
      ],
      "metadata": {
        "colab": {
          "base_uri": "https://localhost:8080/"
        },
        "id": "_Ma9Yio9kE74",
        "outputId": "9cd4056d-789a-4ee4-dc4e-05fc045ca33c"
      },
      "execution_count": null,
      "outputs": [
        {
          "output_type": "stream",
          "name": "stdout",
          "text": [
            "False\n"
          ]
        }
      ]
    },
    {
      "cell_type": "code",
      "source": [
        "a = 1\n",
        "b = 2.5\n",
        "equa = (a + b) * 3 / (a + 2)\n",
        "print(equa)\n"
      ],
      "metadata": {
        "colab": {
          "base_uri": "https://localhost:8080/"
        },
        "id": "ZDD3PxLblNpb",
        "outputId": "20ff45d4-bba6-43b9-e491-9fe4382459f3"
      },
      "execution_count": null,
      "outputs": [
        {
          "output_type": "stream",
          "name": "stdout",
          "text": [
            "3.5\n"
          ]
        }
      ]
    },
    {
      "cell_type": "code",
      "source": [
        "type(equa)"
      ],
      "metadata": {
        "colab": {
          "base_uri": "https://localhost:8080/"
        },
        "id": "hcNY9tvjloOl",
        "outputId": "b70387c5-248e-47c8-ba2b-bb4fa9014c34"
      },
      "execution_count": null,
      "outputs": [
        {
          "output_type": "execute_result",
          "data": {
            "text/plain": [
              "float"
            ]
          },
          "metadata": {},
          "execution_count": 6
        }
      ]
    },
    {
      "cell_type": "code",
      "source": [
        "type(a)"
      ],
      "metadata": {
        "colab": {
          "base_uri": "https://localhost:8080/"
        },
        "id": "NQTKg53ulrK5",
        "outputId": "f3ab3d4d-31e8-4f2b-ec25-a859d44ba86b"
      },
      "execution_count": null,
      "outputs": [
        {
          "output_type": "execute_result",
          "data": {
            "text/plain": [
              "int"
            ]
          },
          "metadata": {},
          "execution_count": 7
        }
      ]
    },
    {
      "cell_type": "code",
      "source": [
        "type(dançar)"
      ],
      "metadata": {
        "colab": {
          "base_uri": "https://localhost:8080/"
        },
        "id": "mj3O7WEIltIV",
        "outputId": "e033c7b7-a961-48ed-dc3e-289be18b27f9"
      },
      "execution_count": null,
      "outputs": [
        {
          "output_type": "execute_result",
          "data": {
            "text/plain": [
              "bool"
            ]
          },
          "metadata": {},
          "execution_count": 8
        }
      ]
    },
    {
      "cell_type": "code",
      "source": [
        "type(ação)"
      ],
      "metadata": {
        "colab": {
          "base_uri": "https://localhost:8080/"
        },
        "id": "Snno_IYVl41P",
        "outputId": "05ad994e-2529-4340-8e64-818269881e1f"
      },
      "execution_count": null,
      "outputs": [
        {
          "output_type": "execute_result",
          "data": {
            "text/plain": [
              "str"
            ]
          },
          "metadata": {},
          "execution_count": 9
        }
      ]
    },
    {
      "cell_type": "code",
      "source": [
        "txt = input('Digite um numero -> ')\n",
        "type(txt)"
      ],
      "metadata": {
        "colab": {
          "base_uri": "https://localhost:8080/"
        },
        "id": "ctAGzUpil6_F",
        "outputId": "f84c27ef-0fd5-4eef-e7c8-5aaac106a901"
      },
      "execution_count": null,
      "outputs": [
        {
          "name": "stdout",
          "output_type": "stream",
          "text": [
            "Digite um numero -> 10\n"
          ]
        },
        {
          "output_type": "execute_result",
          "data": {
            "text/plain": [
              "str"
            ]
          },
          "metadata": {},
          "execution_count": 12
        }
      ]
    },
    {
      "cell_type": "code",
      "source": [
        "# Converter valores\n",
        "x = int(txt)\n",
        "print(type(x))\n",
        "x = float(txt)\n",
        "print(type(x))\n",
        "x = str(txt)\n",
        "print(type(txt))"
      ],
      "metadata": {
        "colab": {
          "base_uri": "https://localhost:8080/"
        },
        "id": "PrDDTweOmBRX",
        "outputId": "b7dba9a6-5d7a-401c-aaf9-0a50872aca9e"
      },
      "execution_count": null,
      "outputs": [
        {
          "output_type": "stream",
          "name": "stdout",
          "text": [
            "<class 'int'>\n",
            "<class 'float'>\n",
            "<class 'str'>\n"
          ]
        }
      ]
    },
    {
      "cell_type": "code",
      "source": [
        "# Comentário \n",
        "'''\n",
        "Comentar em \n",
        "várias linhas\n",
        "\n",
        "'''"
      ],
      "metadata": {
        "colab": {
          "base_uri": "https://localhost:8080/",
          "height": 35
        },
        "id": "PFWJt0F-meoC",
        "outputId": "748b8498-e9b2-43b0-e117-86b3dd2e14f0"
      },
      "execution_count": null,
      "outputs": [
        {
          "output_type": "execute_result",
          "data": {
            "text/plain": [
              "'\\nComentar em \\nvárias linhas\\n\\n'"
            ],
            "application/vnd.google.colaboratory.intrinsic+json": {
              "type": "string"
            }
          },
          "metadata": {},
          "execution_count": 16
        }
      ]
    },
    {
      "cell_type": "code",
      "source": [
        ""
      ],
      "metadata": {
        "id": "j1QDCXPant6k"
      },
      "execution_count": null,
      "outputs": []
    },
    {
      "cell_type": "markdown",
      "source": [
        "### **Matemática Simples**\n"
      ],
      "metadata": {
        "id": "lE4XqVLzn7G2"
      }
    },
    {
      "cell_type": "code",
      "source": [
        "# Exibir a area do quadrado com lado de 5 cm\n",
        "'''\n",
        "q = l x l // l²\n",
        "\n",
        "'''\n",
        "l = 5 # criamos uma variável \n",
        "quadrado = l ** 2 # quadrado = l * l\n",
        "perimetroquadrado = l * 4 # perimetroquadrado = l + l + l + l\n",
        "print(quadrado)\n",
        "print(perimetroquadrado)"
      ],
      "metadata": {
        "colab": {
          "base_uri": "https://localhost:8080/"
        },
        "id": "Mu38oUxfn9yr",
        "outputId": "0c3014a9-7939-4b4d-866e-1e397cd311cb"
      },
      "execution_count": null,
      "outputs": [
        {
          "output_type": "stream",
          "name": "stdout",
          "text": [
            "25\n",
            "20\n"
          ]
        }
      ]
    },
    {
      "cell_type": "code",
      "source": [
        "# O lado de um quadrado mede 8 cm. Caso o comprimento desse valor seja aumentado em 50% do seu valor, \n",
        "# em quantos por centos aumenta a área do novo quadrado em relação a área do quadrado inicial?\n",
        "''' Formula\n",
        "    a = l²\n",
        "'''\n",
        "l = 8\n",
        "area = l ** 2\n",
        "print('Primeira area: ', area)\n",
        "\n",
        "x = 8\n",
        "l = x * 1.5\n",
        "print ('Area aumentada: ', l)\n",
        "areaNova = l ** 2\n",
        "print('Segunda area: ', areaNova)\n",
        "\n",
        "# Diferença do tamanho entre o primeiro e o segundo\n",
        "diferença = (areaNova / area - 1) * 100\n",
        "print('Diferença é de: ', diferença, \"%\")\n"
      ],
      "metadata": {
        "colab": {
          "base_uri": "https://localhost:8080/"
        },
        "id": "QTSVkU2bptuf",
        "outputId": "b48bf17f-8b08-4a5b-fc8b-5518c619be0c"
      },
      "execution_count": null,
      "outputs": [
        {
          "output_type": "stream",
          "name": "stdout",
          "text": [
            "Primeira area:  64\n",
            "Area aumentada:  12.0\n",
            "Segunda area:  144.0\n",
            "Diferença é de:  125.0 %\n"
          ]
        }
      ]
    },
    {
      "cell_type": "code",
      "source": [
        "# Qual é a medida da diaginal de um quadrado cujo lado mede 8 cm?\n",
        "''' Fórmula\n",
        "    d² = l² + l²\n",
        "    d² = 2l²\n",
        "    d = V(2l²)\n",
        "    d = lV2\n",
        "'''\n",
        "diagonal = (2 * (8 ** 2)) ** (0.5)\n",
        "print(diagonal)\n",
        "\n",
        "# ²V128 -> (1/2) 2/1 -> 1/2"
      ],
      "metadata": {
        "colab": {
          "base_uri": "https://localhost:8080/"
        },
        "id": "k5OmmegBsWMi",
        "outputId": "81131d9b-d675-4c53-90a9-1bf9ab40db4c"
      },
      "execution_count": null,
      "outputs": [
        {
          "output_type": "stream",
          "name": "stdout",
          "text": [
            "11.313708498984761\n"
          ]
        }
      ]
    },
    {
      "cell_type": "code",
      "source": [
        "# Qual é o diametro de um círculo cujo o raio mede 10 cm?\n",
        "''' Fórmula\n",
        "    d = 2r\n",
        "'''\n",
        "\n",
        "r = 10\n",
        "diametroCirculo = 2 * r\n",
        "print(diametroCirculo)"
      ],
      "metadata": {
        "colab": {
          "base_uri": "https://localhost:8080/"
        },
        "id": "DzdRPdBvulCo",
        "outputId": "bd9fd1ec-899f-497b-8f43-ab0d11488d19"
      },
      "execution_count": null,
      "outputs": [
        {
          "output_type": "stream",
          "name": "stdout",
          "text": [
            "20\n"
          ]
        }
      ]
    },
    {
      "cell_type": "markdown",
      "source": [
        ""
      ],
      "metadata": {
        "id": "jvguDfiSzTMs"
      }
    },
    {
      "cell_type": "code",
      "source": [
        "# Qual é o perímetro de um círculo cujo raio mede 5 cm?\n",
        "''' Fórmula\n",
        "    p = 2 π . r\n",
        "    π = 3.14\n",
        "'''\n",
        "\n",
        "r = 5\n",
        "pi = 3.14\n",
        "\n",
        "perimetroCirculo = 2 * pi * r\n",
        "print(perimetroCirculo)"
      ],
      "metadata": {
        "colab": {
          "base_uri": "https://localhost:8080/"
        },
        "id": "W3jyfUWqz9Be",
        "outputId": "b522dfff-0159-41e2-8a53-817e93d40b56"
      },
      "execution_count": null,
      "outputs": [
        {
          "output_type": "stream",
          "name": "stdout",
          "text": [
            "31.400000000000002\n"
          ]
        }
      ]
    },
    {
      "cell_type": "code",
      "source": [
        "# Ache o comprimento da hipotenusa de lados 3 cm e 4 cm\n",
        "'''Fórmula \n",
        "    a2 + b2 = c = V25 = 5\n",
        "'''\n",
        "\n",
        "a = 3\n",
        "b = 4\n",
        "c2 = a ** 2 + b ** 2\n",
        "hipotenusa = c2 ** 0.5\n",
        "print(hipotenusa)"
      ],
      "metadata": {
        "colab": {
          "base_uri": "https://localhost:8080/"
        },
        "id": "HCpP9YhU0uvT",
        "outputId": "20b681db-2852-4697-9870-f746e13fd21e"
      },
      "execution_count": null,
      "outputs": [
        {
          "output_type": "stream",
          "name": "stdout",
          "text": [
            "5.0\n"
          ]
        }
      ]
    },
    {
      "cell_type": "code",
      "source": [
        "# Exibir se o número é maior ou menor que 10\n",
        "x = 50\n",
        "if(x > 10): # 50 é maior que 10? -> true\n",
        "  print('É maior que 10') # executa se verdadeiro\n",
        "else: \n",
        "  print('É menor que 10') # executa "
      ],
      "metadata": {
        "id": "3b79aNyf1PXd",
        "colab": {
          "base_uri": "https://localhost:8080/"
        },
        "outputId": "14982032-06f2-42c5-e732-8c002c204ddd"
      },
      "execution_count": null,
      "outputs": [
        {
          "output_type": "stream",
          "name": "stdout",
          "text": [
            "É maior que 10\n"
          ]
        }
      ]
    },
    {
      "cell_type": "code",
      "source": [
        "# Exibir o maior número\n",
        "x = 50\n",
        "y = 25\n",
        "\n",
        "if(x > y): #faça\n",
        "  print(x, 'é maior')\n",
        "else: #senão #faça\n",
        "  print(y, 'é maior')"
      ],
      "metadata": {
        "colab": {
          "base_uri": "https://localhost:8080/"
        },
        "id": "SRIy_0XWNSvB",
        "outputId": "17374fc3-b4ce-4bdf-c035-4a9fe5d7e405"
      },
      "execution_count": null,
      "outputs": [
        {
          "output_type": "stream",
          "name": "stdout",
          "text": [
            "50 é maior\n"
          ]
        }
      ]
    },
    {
      "cell_type": "code",
      "source": [
        "# Exibir o maior número entre os 3\n",
        "a = 10\n",
        "b = -40\n",
        "c = -2\n",
        "# a > b && a < c\n",
        "if(a > b and a > c): #faça\n",
        "  print(a)\n",
        "elif(b > a and b > c):\n",
        "  print(b)\n",
        "else: \n",
        "  print(c)"
      ],
      "metadata": {
        "colab": {
          "base_uri": "https://localhost:8080/"
        },
        "id": "szZ7G15QN8pW",
        "outputId": "bb135d51-304a-45ad-e8b4-9a7637c5fee3"
      },
      "execution_count": null,
      "outputs": [
        {
          "output_type": "stream",
          "name": "stdout",
          "text": [
            "10\n"
          ]
        }
      ]
    },
    {
      "cell_type": "code",
      "source": [
        "# Leia duas notas e exiba se o aluno está aprovado ou reprovado. Para ser aprovado, precisa de média maior ou igual a 7.\n",
        "\n",
        "nota1 = 8\n",
        "nota2 = 6\n",
        "\n",
        "media = (nota1 + nota2) / 2\n",
        "\n",
        "if(media >= 7): #faça\n",
        "  print('Aprovado, média: ', media)\n",
        "else:\n",
        "  print('Reprovado, média: ', media)\n"
      ],
      "metadata": {
        "colab": {
          "base_uri": "https://localhost:8080/"
        },
        "id": "8_HMfWolOkMk",
        "outputId": "8ff6a85d-34eb-42aa-9e74-cc6435559f02"
      },
      "execution_count": null,
      "outputs": [
        {
          "output_type": "stream",
          "name": "stdout",
          "text": [
            "Aprovado, média:  7.0\n"
          ]
        }
      ]
    },
    {
      "cell_type": "code",
      "source": [
        "# Condições de existencia de um triângulo\n",
        "'''\n",
        "  a + b > c\n",
        "  b + c > a\n",
        "  a + c > b\n",
        "'''\n",
        "a = 9\n",
        "b = 8\n",
        "c = 7\n",
        "if((a + b > c) and (b + c > a) and (a + c > b)):\n",
        "  print('É um triângulo')\n",
        "else:\n",
        "  print('Não é um triângulo')"
      ],
      "metadata": {
        "colab": {
          "base_uri": "https://localhost:8080/"
        },
        "id": "VGlgXb-OqE1L",
        "outputId": "5bf7b59a-e7e6-4b05-8cc0-5a9f5260f317"
      },
      "execution_count": null,
      "outputs": [
        {
          "output_type": "stream",
          "name": "stdout",
          "text": [
            "É um triângulo\n"
          ]
        }
      ]
    },
    {
      "cell_type": "code",
      "source": [
        "# Ler 3 notas e verificar se o aluno está Aprovado (>= 7), em Recuperação (>4 e <7) ou Reprovado (<=4).\n",
        "nota1 = 3\n",
        "nota2 = 5\n",
        "nota3 = 3\n",
        "\n",
        "media = (nota1 + nota2 +nota3) / 3\n",
        "\n",
        "if(media >= 7):\n",
        "  print('Aprovado. Media: ', media)\n",
        "elif(media > 4 and media < 7):\n",
        "  print('Recuperação. Media: ', media)\n",
        "else:\n",
        "  print('Reprovado. Media: ', media)"
      ],
      "metadata": {
        "colab": {
          "base_uri": "https://localhost:8080/"
        },
        "id": "K6laaT5gqwZa",
        "outputId": "82f92c47-79f6-44e0-fc82-e7c711cec4ff"
      },
      "execution_count": null,
      "outputs": [
        {
          "output_type": "stream",
          "name": "stdout",
          "text": [
            "Reprovado. Media:  3.6666666666666665\n"
          ]
        }
      ]
    },
    {
      "cell_type": "code",
      "source": [
        "# Calcule e exiba as métricas do IMC de uma pessoa\n",
        "''' Fórmula\n",
        "    Abaixo do peso: inferior a 18.5\n",
        "    Peso normal: 18.5 a 24.9\n",
        "    Excesso de peso: 25.0 a 29.9\n",
        "    Obeso: 30 ou mais\n",
        "\n",
        "    imc = peso / altura²\n",
        "'''\n",
        "peso = 120\n",
        "altura = 175 / 100 # converter de cm para metros\n",
        "\n",
        "imc = round((peso / altura ** 2), 2) # Round(valor, 2) -> arredondar em 2 números\n",
        "\n",
        "if(imc < 18.5): # faça\n",
        "  print('Abaixo do peso. IMC:', imc)\n",
        "elif(imc < 25): \n",
        "  print('Peso normal. IMC: ', imc)\n",
        "elif(imc < 30):\n",
        "  print('Excesso de peso. IMC: ', imc)\n",
        "else:\n",
        "  print('Obeso. IMC: ', imc)"
      ],
      "metadata": {
        "colab": {
          "base_uri": "https://localhost:8080/"
        },
        "id": "VpMiKbUSrsEg",
        "outputId": "57a3ab82-c87e-40c9-e468-eb603e3b2dac"
      },
      "execution_count": null,
      "outputs": [
        {
          "output_type": "stream",
          "name": "stdout",
          "text": [
            "Obeso. IMC:  39.18\n"
          ]
        }
      ]
    },
    {
      "cell_type": "code",
      "source": [
        "# Leia os lados de um triângulo e diga o nome do triângulo.\n",
        "''' \n",
        "    Triângulo equilátero == 3 lados iguais\n",
        "    Triângulos isósceles == 2 lados iguais\n",
        "    Triângulo escaleno == 3 lados diferentes\n",
        "'''\n",
        "\n",
        "lado1 = 8\n",
        "lado2 = 7 \n",
        "lado3 = 8\n",
        "\n",
        "if(lado1 == lado2 == lado3):\n",
        "  print('Triangulo Equilátero')\n",
        "elif(lado1 == lado2 or lado2 == lado3 or lado3 == lado1):\n",
        "  print('Triangulo isósceles')\n",
        "else:\n",
        "  print('Triangulo escaleno')"
      ],
      "metadata": {
        "id": "XA3ZltcUtJPS",
        "colab": {
          "base_uri": "https://localhost:8080/"
        },
        "outputId": "adaa375d-f4e8-4906-e031-4aee9f418db8"
      },
      "execution_count": 1,
      "outputs": [
        {
          "output_type": "stream",
          "name": "stdout",
          "text": [
            "Triangulo isósceles\n"
          ]
        }
      ]
    },
    {
      "cell_type": "code",
      "source": [
        ""
      ],
      "metadata": {
        "id": "mdU_QDLfpwoB"
      },
      "execution_count": null,
      "outputs": []
    }
  ]
}