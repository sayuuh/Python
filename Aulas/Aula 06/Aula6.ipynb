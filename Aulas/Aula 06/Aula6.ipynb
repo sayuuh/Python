{
  "nbformat": 4,
  "nbformat_minor": 0,
  "metadata": {
    "colab": {
      "name": "Aula6.ipynb",
      "provenance": [],
      "collapsed_sections": []
    },
    "kernelspec": {
      "name": "python3",
      "display_name": "Python 3"
    },
    "language_info": {
      "name": "python"
    }
  },
  "cells": [
    {
      "cell_type": "markdown",
      "source": [
        "### **Python**"
      ],
      "metadata": {
        "id": "YDvNZIGFh-gr"
      }
    },
    {
      "cell_type": "markdown",
      "source": [
        "Funções"
      ],
      "metadata": {
        "id": "N68mRI_4iFU0"
      }
    },
    {
      "cell_type": "code",
      "source": [
        "# Declaração\n",
        "def nomeDaFuncao():\n",
        "  # bloco de execução\n",
        "  print(\"-----\" * 5)\n",
        "  print('FUNÇÃO DECLARADA')\n",
        "  print('-----' * 5)\n",
        "nomeDaFuncao()"
      ],
      "metadata": {
        "colab": {
          "base_uri": "https://localhost:8080/"
        },
        "id": "BxJYsy1fiIhg",
        "outputId": "0fb05a21-1893-4671-a13c-0df2ee3957cd"
      },
      "execution_count": null,
      "outputs": [
        {
          "output_type": "stream",
          "name": "stdout",
          "text": [
            "-------------------------\n",
            "FUNÇÃO DECLARADA\n",
            "-------------------------\n"
          ]
        }
      ]
    },
    {
      "cell_type": "code",
      "source": [
        "# Função com parametro\n",
        "def mostraTexto(txt):\n",
        "  print(txt)\n",
        "\n",
        "def mostraIdadeNome(id, nome):\n",
        "  print(\"{} tem {} anos\" .format(nome, id))\n",
        "\n",
        "texto = mostraIdadeNome(17, \"Davi\")\n",
        "print('TESTE: ', texto) # não disse que a função tem retorno \"return\" por isso aparece como none\n",
        "mostraIdadeNome(17, \"Davi\")\n",
        "mostraTexto(\"Exibe um texto\")\n",
        "mostraTexto(\"exibe\")\n",
        "mostraIdadeNome(28, \"Kenji\")\n"
      ],
      "metadata": {
        "colab": {
          "base_uri": "https://localhost:8080/"
        },
        "id": "G92sqfIIisPu",
        "outputId": "a1180871-3808-4a9a-d2a8-cbcce13d627c"
      },
      "execution_count": null,
      "outputs": [
        {
          "output_type": "stream",
          "name": "stdout",
          "text": [
            "Davi tem 17 anos\n",
            "TESTE:  None\n",
            "Davi tem 17 anos\n",
            "Exibe um texto\n",
            "exibe\n",
            "Kenji tem 28 anos\n"
          ]
        }
      ]
    },
    {
      "cell_type": "code",
      "source": [
        "# Função com retorno\n",
        "from random import randint\n",
        "def retornaNumeroAleatorio():\n",
        "  return randint(0, 100)\n",
        "\n",
        "segredo = retornaNumeroAleatorio()\n",
        "print(segredo)"
      ],
      "metadata": {
        "colab": {
          "base_uri": "https://localhost:8080/"
        },
        "id": "PUOjxcOPjVug",
        "outputId": "ef761dfa-f5b1-49e6-9430-755d83d4f0e1"
      },
      "execution_count": null,
      "outputs": [
        {
          "output_type": "stream",
          "name": "stdout",
          "text": [
            "24\n"
          ]
        }
      ]
    },
    {
      "cell_type": "code",
      "source": [
        "# Função com retorno e com parametro\n",
        "def retornoNumeroAleatorioEntre(ini, fim):\n",
        "  return randint(ini, fim)\n",
        "\n",
        "segredo = retornoNumeroAleatorioEntre(2000, 5000)\n",
        "print(\"Teste 1: \", segredo)\n",
        "segredo = retornoNumeroAleatorioEntre(1, 10)\n",
        "print(\"Teste 2: \", segredo)\n",
        "segredo = retornoNumeroAleatorioEntre(100, 500)\n",
        "print(\"Teste 3: \", segredo)"
      ],
      "metadata": {
        "colab": {
          "base_uri": "https://localhost:8080/"
        },
        "id": "57raw34jjo9U",
        "outputId": "1e5ff311-1eb6-45ac-a3c8-39ff465ab744"
      },
      "execution_count": null,
      "outputs": [
        {
          "output_type": "stream",
          "name": "stdout",
          "text": [
            "Teste 1:  2553\n",
            "Teste 2:  6\n",
            "Teste 3:  245\n"
          ]
        }
      ]
    },
    {
      "cell_type": "code",
      "source": [
        "'''\n",
        "Ex 1. Desenvolva um menu de escolha de uma calculadora usando Funções\n",
        "\n",
        "  Menu Calculadora\n",
        "  1. +\n",
        "  2. -\n",
        "  3. *\n",
        "  4. /\n",
        "  R:\n",
        "'''\n",
        "\n",
        "def menu():\n",
        "  input(\"Menu Calculadora \\n 1. + \\n 2. - \\n 3. * \\n 4. / \\n R: \")\n",
        "\n",
        "menu()"
      ],
      "metadata": {
        "colab": {
          "base_uri": "https://localhost:8080/"
        },
        "id": "SQqoYTL4mut1",
        "outputId": "55d14cca-1ad5-45a7-c0ec-a10f35c97bd6"
      },
      "execution_count": null,
      "outputs": [
        {
          "name": "stdout",
          "output_type": "stream",
          "text": [
            "Menu Calculadora \n",
            " 1. + \n",
            " 2. - \n",
            " 3. * \n",
            " 4. / \n",
            " R: 2\n"
          ]
        }
      ]
    },
    {
      "cell_type": "code",
      "source": [
        "'''\n",
        "Ex 2. Desenvolva um menu de escolha de uma calculadora usando Funções e exiba a escolha do usuário\n",
        "  --------------------\n",
        "  Menu Calculadora\n",
        "  --------------------\n",
        "  1. +\n",
        "  2. -\n",
        "  3. *\n",
        "  4. /\n",
        "  5. Sair\n",
        "  R:\n",
        "'''\n",
        "def linhas():\n",
        "  print('--' * 10)\n",
        "\n",
        "def menu():\n",
        "  linhas()\n",
        "  print('Menu Calculadora')\n",
        "  linhas()\n",
        "  escolha = input(\"1. + \\n 2. - \\n 3. * \\n 4. / \\n 5. Sair \\n R: \")\n",
        "  print(\"VOCE ESCOLHEU: \", escolha)\n",
        "menu()"
      ],
      "metadata": {
        "colab": {
          "base_uri": "https://localhost:8080/"
        },
        "id": "qjDvMkBwne6X",
        "outputId": "448f3005-4720-4bb3-dd84-54698087c7b8"
      },
      "execution_count": null,
      "outputs": [
        {
          "output_type": "stream",
          "name": "stdout",
          "text": [
            "--------------------\n",
            "Menu Calculadora\n",
            "--------------------\n",
            "1. + \n",
            " 2. - \n",
            " 3. * \n",
            " 4. / \n",
            " 5. Sair \n",
            " R: 2\n",
            "VOCE ESCOLHEU:  2\n"
          ]
        }
      ]
    },
    {
      "cell_type": "code",
      "source": [
        "# FAÇA UMA CALCULADORA COM (+ - * /) e repita enquanto o usuário quiser\n",
        "\n",
        "conta = 1\n",
        "\n",
        "def linhas():\n",
        "  print('--' * 10)\n",
        "\n",
        "def menu():\n",
        "  linhas()\n",
        "  print('Menu Calculadora')\n",
        "  linhas()\n",
        "  escolha = int(input(\"1. + \\n 2. - \\n 3. * \\n 4. / \\n 5. Sair \\n R: \"))\n",
        "  return escolha\n",
        "\n",
        "def soma():\n",
        "  num1 = inputUsuario()\n",
        "  num2 = inputUsuario()\n",
        "  print('soma: ', num1 + num2)\n",
        "\n",
        "def sub():\n",
        "  num1 = inputUsuario()\n",
        "  num2 = inputUsuario()\n",
        "  print('subtração: ', num1 - num2)\n",
        "\n",
        "def mult():\n",
        "  num1 = inputUsuario()\n",
        "  num2 = inputUsuario()\n",
        "  print('multiplicação', num1 * num2)\n",
        "  \n",
        "def div():\n",
        "  num1 = inputUsuario()\n",
        "  num2 = inputUsuario()\n",
        "  print('divisão', num1 / num2)\n",
        "\n",
        "def inputUsuario():\n",
        "  continuar = False\n",
        "  while(not continuar):\n",
        "    val = input('Digite um valor: ')\n",
        "    if(val.isnumeric()):\n",
        "      continuar = True\n",
        "  return float(val)\n",
        "\n",
        "while(conta < 5):\n",
        "  conta = menu()\n",
        "  if(conta == 1):\n",
        "    soma()\n",
        "  elif(conta == 2):\n",
        "    sub()\n",
        "  elif(conta == 3):\n",
        "    mult()\n",
        "  elif(conta == 4):\n",
        "    div()\n",
        "  else:\n",
        "    linhas()\n",
        "    print('TCHAU TCHAU!')\n",
        "    linhas()"
      ],
      "metadata": {
        "id": "uQ_yKpYqpRKS"
      },
      "execution_count": null,
      "outputs": []
    },
    {
      "cell_type": "code",
      "source": [
        ""
      ],
      "metadata": {
        "id": "d6xjSmYMtqPX"
      },
      "execution_count": null,
      "outputs": []
    }
  ]
}