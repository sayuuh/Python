{
  "nbformat": 4,
  "nbformat_minor": 0,
  "metadata": {
    "colab": {
      "name": "Aula3.ipynb",
      "provenance": [],
      "collapsed_sections": []
    },
    "kernelspec": {
      "name": "python3",
      "display_name": "Python 3"
    },
    "language_info": {
      "name": "python"
    }
  },
  "cells": [
    {
      "cell_type": "code",
      "execution_count": null,
      "metadata": {
        "id": "lG-1sijltMO3",
        "colab": {
          "base_uri": "https://localhost:8080/"
        },
        "outputId": "24daf595-27d7-4c46-e84d-a587320d9565"
      },
      "outputs": [
        {
          "output_type": "stream",
          "name": "stdout",
          "text": [
            "Digite um valor inicial: 5\n",
            "Digite um valor final: 10\n",
            "5\n",
            "6\n",
            "7\n",
            "8\n",
            "9\n",
            "10\n"
          ]
        }
      ],
      "source": [
        "# Leia o valor inicial e o valor final e exiba um contador entre o número inicial e o final\n",
        "\n",
        "inicial = int(input('Digite um valor inicial: '))\n",
        "final = int(input('Digite um valor final: '))\n",
        "\n",
        "if(final > inicial): # Se o valor final for maior que o inicial -> Faça \n",
        "  for i in range(inicial, final + 1): # = 15 -> 14\n",
        "    print(i)\n",
        "else: # Se o valor final for menor que o inicial -> Faça\n",
        "# print('Error: digite valores válidos')\n",
        "  for i in range(final, inicial + 1): # (inicial, final - 1, - 1)\n",
        "    print(i)"
      ]
    },
    {
      "cell_type": "code",
      "source": [
        "# Leia um número e exiba os números em ordem crescente até chegar ao máximo número digitado\n",
        "\n",
        "num = int(input('Digite um número: '))\n",
        "\n",
        "for i in range(0, num):\n",
        "  print(i + 1)\n",
        "\n",
        "print('-----')\n",
        "\n",
        "for i in range(1, num + 1):\n",
        "  print(i)"
      ],
      "metadata": {
        "colab": {
          "base_uri": "https://localhost:8080/"
        },
        "id": "DuQi_IxZukIK",
        "outputId": "ccf990ea-e1da-4738-c942-b8b87de7ad6e"
      },
      "execution_count": null,
      "outputs": [
        {
          "output_type": "stream",
          "name": "stdout",
          "text": [
            "Digite um número: 5\n",
            "1\n",
            "2\n",
            "3\n",
            "4\n",
            "5\n",
            "-----\n",
            "1\n",
            "2\n",
            "3\n",
            "4\n",
            "5\n"
          ]
        }
      ]
    },
    {
      "cell_type": "code",
      "source": [
        "# Receba um número e faça a tabuada com os 20 primeiros números (índices)\n",
        "\n",
        "num = int(input('Digite um número: '))\n",
        "\n",
        "for i in range(0, 21):\n",
        "# print('{1} x {2} = {3}' .format())\n",
        "  print('{} x {} = {}' .format(num , i, i * num))\n"
      ],
      "metadata": {
        "colab": {
          "base_uri": "https://localhost:8080/"
        },
        "id": "YZ6ip0NNvLFX",
        "outputId": "d1f7be82-4368-4a6c-d72f-cb2cba75d7fe"
      },
      "execution_count": null,
      "outputs": [
        {
          "output_type": "stream",
          "name": "stdout",
          "text": [
            "Digite um número: 8\n",
            "8 x 0 = 0\n",
            "8 x 1 = 8\n",
            "8 x 2 = 16\n",
            "8 x 3 = 24\n",
            "8 x 4 = 32\n",
            "8 x 5 = 40\n",
            "8 x 6 = 48\n",
            "8 x 7 = 56\n",
            "8 x 8 = 64\n",
            "8 x 9 = 72\n",
            "8 x 10 = 80\n",
            "8 x 11 = 88\n",
            "8 x 12 = 96\n",
            "8 x 13 = 104\n",
            "8 x 14 = 112\n",
            "8 x 15 = 120\n",
            "8 x 16 = 128\n",
            "8 x 17 = 136\n",
            "8 x 18 = 144\n",
            "8 x 19 = 152\n",
            "8 x 20 = 160\n"
          ]
        }
      ]
    },
    {
      "cell_type": "code",
      "source": [
        "# Leia 4 números e mostre o somatório (usando for)\n",
        "\n",
        "'''\n",
        "num1 = int(input('Digite um número: '))\n",
        "num2 = int(input('Digite um número: '))\n",
        "num3 = int(input('Digite um número: '))\n",
        "num4 = int(input('Digite um número: '))\n",
        "\n",
        "soma = num1 + num2 + num3 + num4\n",
        "print(soma)\n",
        "'''\n",
        "\n",
        "soma = 0\n",
        "for laco in range(4):\n",
        "  n = int(input('Digite um número: '))\n",
        "  soma = soma + n # soma += n \n",
        "print(soma)"
      ],
      "metadata": {
        "id": "aag455NExWj6"
      },
      "execution_count": null,
      "outputs": []
    },
    {
      "cell_type": "code",
      "source": [
        "# Mostre todos os números pares entre 1 a 250\n",
        "\n",
        "for i in range(0, 251):\n",
        "  if(i % 2 == 0):\n",
        "    print(i)"
      ],
      "metadata": {
        "id": "qwW1kYpjyPld"
      },
      "execution_count": null,
      "outputs": []
    },
    {
      "cell_type": "code",
      "source": [
        "# Leia um valor e exiba a quantidade de números ímpares enter 1 e o número lido\n",
        "\n",
        "'''\n",
        "num = int(input('Digite um valor: '))\n",
        "if(num > 1)\n",
        "  for i in range( 1, num, 2):\n",
        "    print(i)\n",
        "else:\n",
        "  print('Digite um valor maior que 1')\n",
        "'''\n",
        "\n",
        "num = int(input('Digite um valor: '))\n",
        "if(num > 1):\n",
        "  for i in range( 1, num):\n",
        "    if(i % 2 != 0): # if(i % 2 == 1):\n",
        "      print(i)\n",
        "else:\n",
        "  print('Digite um valor maior que 1')      "
      ],
      "metadata": {
        "colab": {
          "base_uri": "https://localhost:8080/"
        },
        "id": "N55K5woOyi4C",
        "outputId": "ec87d4ea-a417-4ec0-e23a-8db2b698971a"
      },
      "execution_count": null,
      "outputs": [
        {
          "output_type": "stream",
          "name": "stdout",
          "text": [
            "Digite um valor: 2\n",
            "1\n"
          ]
        }
      ]
    },
    {
      "cell_type": "code",
      "source": [
        "# Leia um número e faça a soma dos números ímpares e que seja múltiplos de 3 entre 1 e o número lido\n",
        "\n",
        "num = int(input('Digite um valor: '))\n",
        "soma = 0\n",
        "for i in range(1, num + 1):\n",
        "  if(i % 2 != 0 and i % 3 == 0):\n",
        "   #if(i % 3 == 0):\n",
        "    soma += 1\n",
        "print(soma)"
      ],
      "metadata": {
        "colab": {
          "base_uri": "https://localhost:8080/"
        },
        "id": "wOCBv1niz45f",
        "outputId": "00d2976d-061c-4bce-a595-7f60ab35364e"
      },
      "execution_count": null,
      "outputs": [
        {
          "output_type": "stream",
          "name": "stdout",
          "text": [
            "Digite um valor: 220\n",
            "37\n"
          ]
        }
      ]
    },
    {
      "cell_type": "code",
      "source": [
        "# Leia 5 número e exiba a soma deles, o menor número e o maior número\n",
        "\n",
        "soma = 0 \n",
        "maior = 0\n",
        "menor = 1000000000\n",
        "\n",
        "for num in range(5):\n",
        "  n = int(input('Digite um número: '))\n",
        "  soma = soma + n\n",
        "  if(n > maior):\n",
        "    maior = n\n",
        "  if(n < menor):\n",
        "    # bloco de exercução\n",
        "    menor = n\n",
        "print('A soma dos números foi {} \\nO maior número foi {} \\nO menor número foi {}' .format(soma, maior, menor))"
      ],
      "metadata": {
        "colab": {
          "base_uri": "https://localhost:8080/"
        },
        "id": "ZPrk08vl0mtF",
        "outputId": "5061e68c-e54d-4a9c-f88c-2ce2af971f0b"
      },
      "execution_count": null,
      "outputs": [
        {
          "output_type": "stream",
          "name": "stdout",
          "text": [
            "Digite um número: 8\n",
            "Digite um número: 6\n",
            "Digite um número: 10\n",
            "Digite um número: 2\n",
            "Digite um número: 21\n",
            "A soma dos números foi 47 \n",
            " O maior número foi 21 \n",
            " O menor número foi 2\n"
          ]
        }
      ]
    },
    {
      "cell_type": "code",
      "source": [
        ""
      ],
      "metadata": {
        "id": "XCwUR-EI2edh"
      },
      "execution_count": null,
      "outputs": []
    }
  ]
}